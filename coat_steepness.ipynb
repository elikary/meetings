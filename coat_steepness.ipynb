{
 "cells": [
  {
   "cell_type": "code",
   "execution_count": 1,
   "metadata": {},
   "outputs": [],
   "source": [
    "import pandas as pd"
   ]
  },
  {
   "cell_type": "code",
   "execution_count": 2,
   "metadata": {
    "pycharm": {
     "name": "#%%\n"
    }
   },
   "outputs": [],
   "source": [
    "cols=['user_id','item_id','rating']"
   ]
  },
  {
   "cell_type": "code",
   "execution_count": 3,
   "metadata": {
    "pycharm": {
     "name": "#%%\n"
    }
   },
   "outputs": [],
   "source": [
    "coat_obs = pd.read_csv('../data/coat/train012.txt', sep='\\t',names=cols, encoding='latin-1')"
   ]
  },
  {
   "cell_type": "code",
   "execution_count": 4,
   "metadata": {
    "pycharm": {
     "name": "#%%\n"
    }
   },
   "outputs": [
    {
     "data": {
      "text/html": [
       "<div>\n",
       "<style scoped>\n",
       "    .dataframe tbody tr th:only-of-type {\n",
       "        vertical-align: middle;\n",
       "    }\n",
       "\n",
       "    .dataframe tbody tr th {\n",
       "        vertical-align: top;\n",
       "    }\n",
       "\n",
       "    .dataframe thead th {\n",
       "        text-align: right;\n",
       "    }\n",
       "</style>\n",
       "<table border=\"1\" class=\"dataframe\">\n",
       "  <thead>\n",
       "    <tr style=\"text-align: right;\">\n",
       "      <th></th>\n",
       "      <th>user_id</th>\n",
       "      <th>item_id</th>\n",
       "      <th>rating</th>\n",
       "    </tr>\n",
       "  </thead>\n",
       "  <tbody>\n",
       "    <tr>\n",
       "      <th>0</th>\n",
       "      <td>1</td>\n",
       "      <td>73</td>\n",
       "      <td>0</td>\n",
       "    </tr>\n",
       "    <tr>\n",
       "      <th>1</th>\n",
       "      <td>1</td>\n",
       "      <td>137</td>\n",
       "      <td>0</td>\n",
       "    </tr>\n",
       "    <tr>\n",
       "      <th>2</th>\n",
       "      <td>1</td>\n",
       "      <td>151</td>\n",
       "      <td>0</td>\n",
       "    </tr>\n",
       "    <tr>\n",
       "      <th>3</th>\n",
       "      <td>1</td>\n",
       "      <td>172</td>\n",
       "      <td>0</td>\n",
       "    </tr>\n",
       "    <tr>\n",
       "      <th>4</th>\n",
       "      <td>1</td>\n",
       "      <td>189</td>\n",
       "      <td>0</td>\n",
       "    </tr>\n",
       "  </tbody>\n",
       "</table>\n",
       "</div>"
      ],
      "text/plain": [
       "   user_id  item_id  rating\n",
       "0        1       73       0\n",
       "1        1      137       0\n",
       "2        1      151       0\n",
       "3        1      172       0\n",
       "4        1      189       0"
      ]
     },
     "execution_count": 4,
     "metadata": {},
     "output_type": "execute_result"
    }
   ],
   "source": [
    "coat_obs.head()"
   ]
  },
  {
   "cell_type": "code",
   "execution_count": 5,
   "metadata": {
    "pycharm": {
     "name": "#%%\n"
    }
   },
   "outputs": [
    {
     "data": {
      "text/plain": [
       "17"
      ]
     },
     "execution_count": 5,
     "metadata": {},
     "output_type": "execute_result"
    }
   ],
   "source": [
    "coat_obs.loc[coat_obs.item_id == 73].rating.count()"
   ]
  },
  {
   "cell_type": "code",
   "execution_count": 6,
   "metadata": {
    "pycharm": {
     "name": "#%%\n"
    }
   },
   "outputs": [
    {
     "data": {
      "text/plain": [
       "300"
      ]
     },
     "execution_count": 6,
     "metadata": {},
     "output_type": "execute_result"
    }
   ],
   "source": [
    "coat_obs.item_id.nunique()\n"
   ]
  },
  {
   "cell_type": "code",
   "execution_count": 7,
   "metadata": {},
   "outputs": [
    {
     "name": "stdout",
     "output_type": "stream",
     "text": [
      "300\n"
     ]
    }
   ],
   "source": [
    "num_items = coat_obs.item_id.nunique()\n",
    "print(num_items) #p(i)"
   ]
  },
  {
   "cell_type": "code",
   "execution_count": 8,
   "metadata": {},
   "outputs": [],
   "source": [
    "def num_ratings_peritem(train, item):\n",
    "    return train.loc[train.item_id == item].rating.count() #P(train,i)"
   ]
  },
  {
   "cell_type": "code",
   "execution_count": 9,
   "metadata": {
    "pycharm": {
     "name": "#%%\n"
    }
   },
   "outputs": [],
   "source": [
    "def popularity(p_train_i, p_i):\n",
    "    return (p_train_i/p_i)"
   ]
  },
  {
   "cell_type": "code",
   "execution_count": 10,
   "metadata": {},
   "outputs": [],
   "source": [
    "ratings_73 = num_ratings_peritem(coat_obs,73)"
   ]
  },
  {
   "cell_type": "code",
   "execution_count": 11,
   "metadata": {
    "pycharm": {
     "name": "#%%\n"
    }
   },
   "outputs": [
    {
     "data": {
      "text/plain": [
       "0.056666666666666664"
      ]
     },
     "execution_count": 11,
     "metadata": {},
     "output_type": "execute_result"
    }
   ],
   "source": [
    "popularity(ratings_73, num_items)"
   ]
  },
  {
   "cell_type": "code",
   "execution_count": 12,
   "metadata": {
    "pycharm": {
     "name": "#%%\n"
    }
   },
   "outputs": [
    {
     "name": "stdout",
     "output_type": "stream",
     "text": [
      "0.056666666666666664\n"
     ]
    }
   ],
   "source": [
    "print(17/300)"
   ]
  },
  {
   "cell_type": "code",
   "execution_count": 13,
   "metadata": {
    "pycharm": {
     "name": "#%%\n"
    }
   },
   "outputs": [],
   "source": [
    "def odds(p_train_i, p_i):\n",
    "    p = popularity(p_train_i, p_i)\n",
    "    return p/(1-p)"
   ]
  },
  {
   "cell_type": "code",
   "execution_count": 14,
   "metadata": {
    "pycharm": {
     "name": "#%%\n"
    }
   },
   "outputs": [
    {
     "name": "stdout",
     "output_type": "stream",
     "text": [
      "0.06007067137809187\n"
     ]
    }
   ],
   "source": [
    "odds_73=odds(ratings_73, num_items)\n",
    "print(odds_73)"
   ]
  },
  {
   "cell_type": "code",
   "execution_count": 15,
   "metadata": {
    "pycharm": {
     "name": "#%%\n"
    }
   },
   "outputs": [
    {
     "name": "stdout",
     "output_type": "stream",
     "text": [
      "0.06007067137809187\n"
     ]
    }
   ],
   "source": [
    "x = 17/300\n",
    "print(x/(1-x))"
   ]
  },
  {
   "cell_type": "code",
   "execution_count": 16,
   "metadata": {},
   "outputs": [],
   "source": [
    "def p_relevance(train, item):\n",
    "    ratings_item=train.loc[train.item_id == item].rating\n",
    "    non_rel = ratings_item[ratings_item <1].count() #this is not a probability tho\n",
    "    rel = ratings_item[ratings_item >=1].count() #this is not a probability tho\n",
    "    return rel, non_rel #p(rel,train,i) p(non_rel,train,i)"
   ]
  },
  {
   "cell_type": "code",
   "execution_count": 17,
   "metadata": {},
   "outputs": [
    {
     "name": "stdout",
     "output_type": "stream",
     "text": [
      "5 12\n"
     ]
    }
   ],
   "source": [
    "rel_73, non_rel_73 = p_relevance(coat_obs, 73)\n",
    "print (rel_73, non_rel_73)"
   ]
  },
  {
   "cell_type": "code",
   "execution_count": 18,
   "metadata": {},
   "outputs": [],
   "source": [
    "def p_average(p_rel_train_i, p_non_rel_train_i, p_train_i):\n",
    "    return (p_rel_train_i/p_train_i), (p_non_rel_train_i/p_train_i)"
   ]
  },
  {
   "cell_type": "code",
   "execution_count": 19,
   "metadata": {},
   "outputs": [
    {
     "name": "stdout",
     "output_type": "stream",
     "text": [
      "(0.29411764705882354, 0.7058823529411765)\n"
     ]
    }
   ],
   "source": [
    "average_73=p_average(rel_73, non_rel_73, ratings_73)\n",
    "print(average_73)"
   ]
  },
  {
   "cell_type": "code",
   "execution_count": 20,
   "metadata": {
    "pycharm": {
     "name": "#%%\n"
    }
   },
   "outputs": [],
   "source": [
    "def delta(fa, fb):\n",
    "    return abs(fa - fb)"
   ]
  },
  {
   "cell_type": "code",
   "execution_count": 21,
   "metadata": {},
   "outputs": [],
   "source": [
    "ratings_85 = num_ratings_peritem(coat_obs,85)\n",
    "rel_85, non_rel_85 = p_relevance(coat_obs, 85)"
   ]
  },
  {
   "cell_type": "code",
   "execution_count": 22,
   "metadata": {},
   "outputs": [
    {
     "name": "stdout",
     "output_type": "stream",
     "text": [
      "0.10294117647058824\n"
     ]
    }
   ],
   "source": [
    "odds_85 = odds(ratings_85, num_items)\n",
    "print(odds_85)"
   ]
  },
  {
   "cell_type": "code",
   "execution_count": 23,
   "metadata": {},
   "outputs": [
    {
     "name": "stdout",
     "output_type": "stream",
     "text": [
      "(0.39285714285714285, 0.6071428571428571)\n"
     ]
    }
   ],
   "source": [
    "average_85 = p_average(rel_85, non_rel_85, ratings_85)\n",
    "print (average_85)"
   ]
  },
  {
   "cell_type": "code",
   "execution_count": 24,
   "metadata": {},
   "outputs": [
    {
     "name": "stdout",
     "output_type": "stream",
     "text": [
      "0.042870505092496375\n"
     ]
    }
   ],
   "source": [
    "delta_odds = delta(odds_73,odds_85)\n",
    "print(delta_odds)"
   ]
  },
  {
   "cell_type": "code",
   "execution_count": 25,
   "metadata": {},
   "outputs": [
    {
     "name": "stdout",
     "output_type": "stream",
     "text": [
      "0.09873949579831931\n"
     ]
    }
   ],
   "source": [
    "delta_relevance=delta(average_73[0],average_85[0]) #relevance\n",
    "print(delta_relevance)"
   ]
  },
  {
   "cell_type": "code",
   "execution_count": 26,
   "metadata": {},
   "outputs": [
    {
     "name": "stdout",
     "output_type": "stream",
     "text": [
      "0.09873949579831942\n"
     ]
    }
   ],
   "source": [
    "delta_non_relevance=delta(average_73[1],average_85[1])#non_relevance\n",
    "print(delta_non_relevance)"
   ]
  },
  {
   "cell_type": "code",
   "execution_count": 27,
   "metadata": {
    "pycharm": {
     "name": "#%%\n"
    }
   },
   "outputs": [],
   "source": [
    "def steepness(fa, fb):\n",
    "    return delta(fa,fb)/max(fa,fb)"
   ]
  },
  {
   "cell_type": "code",
   "execution_count": 28,
   "metadata": {},
   "outputs": [
    {
     "name": "stdout",
     "output_type": "stream",
     "text": [
      "0.41645633518425046\n"
     ]
    }
   ],
   "source": [
    "steepness_odds = steepness(odds_73,odds_85)\n",
    "print(steepness_odds)"
   ]
  },
  {
   "cell_type": "code",
   "execution_count": 29,
   "metadata": {},
   "outputs": [
    {
     "name": "stdout",
     "output_type": "stream",
     "text": [
      "0.2513368983957219\n"
     ]
    }
   ],
   "source": [
    "steepness_relevance = steepness(average_73[0],average_85[0])\n",
    "print(steepness_relevance)"
   ]
  },
  {
   "cell_type": "code",
   "execution_count": 30,
   "metadata": {},
   "outputs": [
    {
     "name": "stdout",
     "output_type": "stream",
     "text": [
      "0.1398809523809525\n"
     ]
    }
   ],
   "source": [
    "steepness_non_relevance = steepness(average_73[1],average_85[1])\n",
    "print(steepness_non_relevance)"
   ]
  },
  {
   "cell_type": "code",
   "execution_count": 31,
   "metadata": {},
   "outputs": [
    {
     "name": "stdout",
     "output_type": "stream",
     "text": [
      "   a  b\n",
      "0  1  2\n",
      "1  1  3\n",
      "2  1  4\n",
      "3  1  5\n",
      "4  1  6\n"
     ]
    }
   ],
   "source": [
    "num_items = 300\n",
    "#num_items = coat_obs.item_id.nunique()\n",
    "main_set = list(range(1,num_items+1))\n",
    "result=[]\n",
    "for i in main_set:\n",
    "    sub_set = main_set.copy()\n",
    "    sub_set.remove(i)\n",
    "    for j in sub_set:\n",
    "        result.append([i,j])\n",
    "r=pd.DataFrame(result)\n",
    "r.columns = ['a','b']\n",
    "print (r.head())   "
   ]
  },
  {
   "cell_type": "code",
   "execution_count": 32,
   "metadata": {},
   "outputs": [
    {
     "data": {
      "text/html": [
       "<div>\n",
       "<style scoped>\n",
       "    .dataframe tbody tr th:only-of-type {\n",
       "        vertical-align: middle;\n",
       "    }\n",
       "\n",
       "    .dataframe tbody tr th {\n",
       "        vertical-align: top;\n",
       "    }\n",
       "\n",
       "    .dataframe thead th {\n",
       "        text-align: right;\n",
       "    }\n",
       "</style>\n",
       "<table border=\"1\" class=\"dataframe\">\n",
       "  <thead>\n",
       "    <tr style=\"text-align: right;\">\n",
       "      <th></th>\n",
       "      <th>a</th>\n",
       "      <th>b</th>\n",
       "    </tr>\n",
       "  </thead>\n",
       "  <tbody>\n",
       "    <tr>\n",
       "      <th>89695</th>\n",
       "      <td>300</td>\n",
       "      <td>295</td>\n",
       "    </tr>\n",
       "    <tr>\n",
       "      <th>89696</th>\n",
       "      <td>300</td>\n",
       "      <td>296</td>\n",
       "    </tr>\n",
       "    <tr>\n",
       "      <th>89697</th>\n",
       "      <td>300</td>\n",
       "      <td>297</td>\n",
       "    </tr>\n",
       "    <tr>\n",
       "      <th>89698</th>\n",
       "      <td>300</td>\n",
       "      <td>298</td>\n",
       "    </tr>\n",
       "    <tr>\n",
       "      <th>89699</th>\n",
       "      <td>300</td>\n",
       "      <td>299</td>\n",
       "    </tr>\n",
       "  </tbody>\n",
       "</table>\n",
       "</div>"
      ],
      "text/plain": [
       "         a    b\n",
       "89695  300  295\n",
       "89696  300  296\n",
       "89697  300  297\n",
       "89698  300  298\n",
       "89699  300  299"
      ]
     },
     "execution_count": 32,
     "metadata": {},
     "output_type": "execute_result"
    }
   ],
   "source": [
    "r.tail()"
   ]
  },
  {
   "cell_type": "code",
   "execution_count": 33,
   "metadata": {},
   "outputs": [],
   "source": [
    "o = pd.DataFrame()"
   ]
  },
  {
   "cell_type": "code",
   "execution_count": 34,
   "metadata": {},
   "outputs": [],
   "source": [
    "for i in main_set:\n",
    "    o.at[i,'item']=i  "
   ]
  },
  {
   "cell_type": "code",
   "execution_count": 35,
   "metadata": {},
   "outputs": [
    {
     "data": {
      "text/plain": [
       "1    1.0\n",
       "2    2.0\n",
       "3    3.0\n",
       "4    4.0\n",
       "5    5.0\n",
       "Name: item, dtype: float64"
      ]
     },
     "execution_count": 35,
     "metadata": {},
     "output_type": "execute_result"
    }
   ],
   "source": [
    "o['item'].head()"
   ]
  },
  {
   "cell_type": "code",
   "execution_count": 36,
   "metadata": {},
   "outputs": [],
   "source": [
    "for i in o['item']:\n",
    "    o.at[i,'ratings']=num_ratings_peritem(coat_obs,i)  "
   ]
  },
  {
   "cell_type": "code",
   "execution_count": 37,
   "metadata": {},
   "outputs": [
    {
     "data": {
      "text/html": [
       "<div>\n",
       "<style scoped>\n",
       "    .dataframe tbody tr th:only-of-type {\n",
       "        vertical-align: middle;\n",
       "    }\n",
       "\n",
       "    .dataframe tbody tr th {\n",
       "        vertical-align: top;\n",
       "    }\n",
       "\n",
       "    .dataframe thead th {\n",
       "        text-align: right;\n",
       "    }\n",
       "</style>\n",
       "<table border=\"1\" class=\"dataframe\">\n",
       "  <thead>\n",
       "    <tr style=\"text-align: right;\">\n",
       "      <th></th>\n",
       "      <th>item</th>\n",
       "      <th>ratings</th>\n",
       "    </tr>\n",
       "  </thead>\n",
       "  <tbody>\n",
       "    <tr>\n",
       "      <th>1</th>\n",
       "      <td>1.0</td>\n",
       "      <td>83.0</td>\n",
       "    </tr>\n",
       "    <tr>\n",
       "      <th>2</th>\n",
       "      <td>2.0</td>\n",
       "      <td>20.0</td>\n",
       "    </tr>\n",
       "    <tr>\n",
       "      <th>3</th>\n",
       "      <td>3.0</td>\n",
       "      <td>14.0</td>\n",
       "    </tr>\n",
       "    <tr>\n",
       "      <th>4</th>\n",
       "      <td>4.0</td>\n",
       "      <td>14.0</td>\n",
       "    </tr>\n",
       "    <tr>\n",
       "      <th>5</th>\n",
       "      <td>5.0</td>\n",
       "      <td>29.0</td>\n",
       "    </tr>\n",
       "  </tbody>\n",
       "</table>\n",
       "</div>"
      ],
      "text/plain": [
       "   item  ratings\n",
       "1   1.0     83.0\n",
       "2   2.0     20.0\n",
       "3   3.0     14.0\n",
       "4   4.0     14.0\n",
       "5   5.0     29.0"
      ]
     },
     "execution_count": 37,
     "metadata": {},
     "output_type": "execute_result"
    }
   ],
   "source": [
    "o.head()"
   ]
  },
  {
   "cell_type": "code",
   "execution_count": 38,
   "metadata": {},
   "outputs": [
    {
     "data": {
      "text/html": [
       "<div>\n",
       "<style scoped>\n",
       "    .dataframe tbody tr th:only-of-type {\n",
       "        vertical-align: middle;\n",
       "    }\n",
       "\n",
       "    .dataframe tbody tr th {\n",
       "        vertical-align: top;\n",
       "    }\n",
       "\n",
       "    .dataframe thead th {\n",
       "        text-align: right;\n",
       "    }\n",
       "</style>\n",
       "<table border=\"1\" class=\"dataframe\">\n",
       "  <thead>\n",
       "    <tr style=\"text-align: right;\">\n",
       "      <th></th>\n",
       "      <th>item</th>\n",
       "      <th>ratings</th>\n",
       "    </tr>\n",
       "  </thead>\n",
       "  <tbody>\n",
       "    <tr>\n",
       "      <th>73</th>\n",
       "      <td>73.0</td>\n",
       "      <td>17.0</td>\n",
       "    </tr>\n",
       "  </tbody>\n",
       "</table>\n",
       "</div>"
      ],
      "text/plain": [
       "    item  ratings\n",
       "73  73.0     17.0"
      ]
     },
     "execution_count": 38,
     "metadata": {},
     "output_type": "execute_result"
    }
   ],
   "source": [
    "o.loc[o['item']==73]"
   ]
  },
  {
   "cell_type": "code",
   "execution_count": 39,
   "metadata": {},
   "outputs": [],
   "source": [
    "for i in o['item']:\n",
    "    o.at[i,'odds']=odds(o.at[i,'ratings'], num_items)"
   ]
  },
  {
   "cell_type": "code",
   "execution_count": 40,
   "metadata": {},
   "outputs": [
    {
     "data": {
      "text/html": [
       "<div>\n",
       "<style scoped>\n",
       "    .dataframe tbody tr th:only-of-type {\n",
       "        vertical-align: middle;\n",
       "    }\n",
       "\n",
       "    .dataframe tbody tr th {\n",
       "        vertical-align: top;\n",
       "    }\n",
       "\n",
       "    .dataframe thead th {\n",
       "        text-align: right;\n",
       "    }\n",
       "</style>\n",
       "<table border=\"1\" class=\"dataframe\">\n",
       "  <thead>\n",
       "    <tr style=\"text-align: right;\">\n",
       "      <th></th>\n",
       "      <th>item</th>\n",
       "      <th>ratings</th>\n",
       "      <th>odds</th>\n",
       "    </tr>\n",
       "  </thead>\n",
       "  <tbody>\n",
       "    <tr>\n",
       "      <th>73</th>\n",
       "      <td>73.0</td>\n",
       "      <td>17.0</td>\n",
       "      <td>0.060071</td>\n",
       "    </tr>\n",
       "  </tbody>\n",
       "</table>\n",
       "</div>"
      ],
      "text/plain": [
       "    item  ratings      odds\n",
       "73  73.0     17.0  0.060071"
      ]
     },
     "execution_count": 40,
     "metadata": {},
     "output_type": "execute_result"
    }
   ],
   "source": [
    "o.loc[o['item']==73]"
   ]
  },
  {
   "cell_type": "code",
   "execution_count": 41,
   "metadata": {},
   "outputs": [],
   "source": [
    "for i in o['item']:\n",
    "    rele=p_relevance(coat_obs, i)\n",
    "    o.at[i,'relevant'] = rele[0]\n",
    "    o.at[i,'non_relevant'] = rele[1]"
   ]
  },
  {
   "cell_type": "code",
   "execution_count": 42,
   "metadata": {},
   "outputs": [
    {
     "data": {
      "text/html": [
       "<div>\n",
       "<style scoped>\n",
       "    .dataframe tbody tr th:only-of-type {\n",
       "        vertical-align: middle;\n",
       "    }\n",
       "\n",
       "    .dataframe tbody tr th {\n",
       "        vertical-align: top;\n",
       "    }\n",
       "\n",
       "    .dataframe thead th {\n",
       "        text-align: right;\n",
       "    }\n",
       "</style>\n",
       "<table border=\"1\" class=\"dataframe\">\n",
       "  <thead>\n",
       "    <tr style=\"text-align: right;\">\n",
       "      <th></th>\n",
       "      <th>item</th>\n",
       "      <th>ratings</th>\n",
       "      <th>odds</th>\n",
       "      <th>relevant</th>\n",
       "      <th>non_relevant</th>\n",
       "    </tr>\n",
       "  </thead>\n",
       "  <tbody>\n",
       "    <tr>\n",
       "      <th>73</th>\n",
       "      <td>73.0</td>\n",
       "      <td>17.0</td>\n",
       "      <td>0.060071</td>\n",
       "      <td>5.0</td>\n",
       "      <td>12.0</td>\n",
       "    </tr>\n",
       "  </tbody>\n",
       "</table>\n",
       "</div>"
      ],
      "text/plain": [
       "    item  ratings      odds  relevant  non_relevant\n",
       "73  73.0     17.0  0.060071       5.0          12.0"
      ]
     },
     "execution_count": 42,
     "metadata": {},
     "output_type": "execute_result"
    }
   ],
   "source": [
    "o.loc[o['item']==73]"
   ]
  },
  {
   "cell_type": "code",
   "execution_count": 43,
   "metadata": {},
   "outputs": [],
   "source": [
    "for i in o['item']:\n",
    "    ave=p_average(o.at[i,'relevant'], o.at[i,'non_relevant'], o.at[i,'ratings'])\n",
    "    o.at[i,'average_rel'] = ave[0]\n",
    "    o.at[i,'average_non_rel'] = ave[1]\n",
    "    "
   ]
  },
  {
   "cell_type": "code",
   "execution_count": 44,
   "metadata": {},
   "outputs": [
    {
     "data": {
      "text/html": [
       "<div>\n",
       "<style scoped>\n",
       "    .dataframe tbody tr th:only-of-type {\n",
       "        vertical-align: middle;\n",
       "    }\n",
       "\n",
       "    .dataframe tbody tr th {\n",
       "        vertical-align: top;\n",
       "    }\n",
       "\n",
       "    .dataframe thead th {\n",
       "        text-align: right;\n",
       "    }\n",
       "</style>\n",
       "<table border=\"1\" class=\"dataframe\">\n",
       "  <thead>\n",
       "    <tr style=\"text-align: right;\">\n",
       "      <th></th>\n",
       "      <th>item</th>\n",
       "      <th>ratings</th>\n",
       "      <th>odds</th>\n",
       "      <th>relevant</th>\n",
       "      <th>non_relevant</th>\n",
       "      <th>average_rel</th>\n",
       "      <th>average_non_rel</th>\n",
       "    </tr>\n",
       "  </thead>\n",
       "  <tbody>\n",
       "    <tr>\n",
       "      <th>73</th>\n",
       "      <td>73.0</td>\n",
       "      <td>17.0</td>\n",
       "      <td>0.060071</td>\n",
       "      <td>5.0</td>\n",
       "      <td>12.0</td>\n",
       "      <td>0.294118</td>\n",
       "      <td>0.705882</td>\n",
       "    </tr>\n",
       "  </tbody>\n",
       "</table>\n",
       "</div>"
      ],
      "text/plain": [
       "    item  ratings      odds  relevant  non_relevant  average_rel  \\\n",
       "73  73.0     17.0  0.060071       5.0          12.0     0.294118   \n",
       "\n",
       "    average_non_rel  \n",
       "73         0.705882  "
      ]
     },
     "execution_count": 44,
     "metadata": {},
     "output_type": "execute_result"
    }
   ],
   "source": [
    "o.loc[o['item']==73]"
   ]
  },
  {
   "cell_type": "code",
   "execution_count": 45,
   "metadata": {},
   "outputs": [
    {
     "data": {
      "text/html": [
       "<div>\n",
       "<style scoped>\n",
       "    .dataframe tbody tr th:only-of-type {\n",
       "        vertical-align: middle;\n",
       "    }\n",
       "\n",
       "    .dataframe tbody tr th {\n",
       "        vertical-align: top;\n",
       "    }\n",
       "\n",
       "    .dataframe thead th {\n",
       "        text-align: right;\n",
       "    }\n",
       "</style>\n",
       "<table border=\"1\" class=\"dataframe\">\n",
       "  <thead>\n",
       "    <tr style=\"text-align: right;\">\n",
       "      <th></th>\n",
       "      <th>a</th>\n",
       "      <th>b</th>\n",
       "    </tr>\n",
       "  </thead>\n",
       "  <tbody>\n",
       "    <tr>\n",
       "      <th>4784</th>\n",
       "      <td>17</td>\n",
       "      <td>1</td>\n",
       "    </tr>\n",
       "    <tr>\n",
       "      <th>4785</th>\n",
       "      <td>17</td>\n",
       "      <td>2</td>\n",
       "    </tr>\n",
       "    <tr>\n",
       "      <th>4786</th>\n",
       "      <td>17</td>\n",
       "      <td>3</td>\n",
       "    </tr>\n",
       "    <tr>\n",
       "      <th>4787</th>\n",
       "      <td>17</td>\n",
       "      <td>4</td>\n",
       "    </tr>\n",
       "    <tr>\n",
       "      <th>4788</th>\n",
       "      <td>17</td>\n",
       "      <td>5</td>\n",
       "    </tr>\n",
       "    <tr>\n",
       "      <th>...</th>\n",
       "      <td>...</td>\n",
       "      <td>...</td>\n",
       "    </tr>\n",
       "    <tr>\n",
       "      <th>5078</th>\n",
       "      <td>17</td>\n",
       "      <td>296</td>\n",
       "    </tr>\n",
       "    <tr>\n",
       "      <th>5079</th>\n",
       "      <td>17</td>\n",
       "      <td>297</td>\n",
       "    </tr>\n",
       "    <tr>\n",
       "      <th>5080</th>\n",
       "      <td>17</td>\n",
       "      <td>298</td>\n",
       "    </tr>\n",
       "    <tr>\n",
       "      <th>5081</th>\n",
       "      <td>17</td>\n",
       "      <td>299</td>\n",
       "    </tr>\n",
       "    <tr>\n",
       "      <th>5082</th>\n",
       "      <td>17</td>\n",
       "      <td>300</td>\n",
       "    </tr>\n",
       "  </tbody>\n",
       "</table>\n",
       "<p>299 rows × 2 columns</p>\n",
       "</div>"
      ],
      "text/plain": [
       "       a    b\n",
       "4784  17    1\n",
       "4785  17    2\n",
       "4786  17    3\n",
       "4787  17    4\n",
       "4788  17    5\n",
       "...   ..  ...\n",
       "5078  17  296\n",
       "5079  17  297\n",
       "5080  17  298\n",
       "5081  17  299\n",
       "5082  17  300\n",
       "\n",
       "[299 rows x 2 columns]"
      ]
     },
     "execution_count": 45,
     "metadata": {},
     "output_type": "execute_result"
    }
   ],
   "source": [
    "r.loc[r['a']==17]"
   ]
  },
  {
   "cell_type": "code",
   "execution_count": 47,
   "metadata": {},
   "outputs": [],
   "source": [
    "# steepness_odds = steepness(odds_i,odds_j)\n",
    "# steepness_relevance = steepness(average_i[0],average_j[0])\n",
    "# steepness_non_relevance = steepness(average_i[1],average_j[1])"
   ]
  },
  {
   "cell_type": "code",
   "execution_count": 48,
   "metadata": {},
   "outputs": [],
   "source": [
    "for i in o['item']:\n",
    "    r[r['a']==i]\n",
    "    "
   ]
  },
  {
   "cell_type": "code",
   "execution_count": 49,
   "metadata": {},
   "outputs": [
    {
     "data": {
      "text/html": [
       "<div>\n",
       "<style scoped>\n",
       "    .dataframe tbody tr th:only-of-type {\n",
       "        vertical-align: middle;\n",
       "    }\n",
       "\n",
       "    .dataframe tbody tr th {\n",
       "        vertical-align: top;\n",
       "    }\n",
       "\n",
       "    .dataframe thead th {\n",
       "        text-align: right;\n",
       "    }\n",
       "</style>\n",
       "<table border=\"1\" class=\"dataframe\">\n",
       "  <thead>\n",
       "    <tr style=\"text-align: right;\">\n",
       "      <th></th>\n",
       "      <th>item</th>\n",
       "      <th>ratings</th>\n",
       "      <th>odds</th>\n",
       "      <th>relevant</th>\n",
       "      <th>non_relevant</th>\n",
       "      <th>average_rel</th>\n",
       "      <th>average_non_rel</th>\n",
       "    </tr>\n",
       "  </thead>\n",
       "  <tbody>\n",
       "    <tr>\n",
       "      <th>1</th>\n",
       "      <td>1.0</td>\n",
       "      <td>83.0</td>\n",
       "      <td>0.382488</td>\n",
       "      <td>52.0</td>\n",
       "      <td>31.0</td>\n",
       "      <td>0.626506</td>\n",
       "      <td>0.373494</td>\n",
       "    </tr>\n",
       "    <tr>\n",
       "      <th>2</th>\n",
       "      <td>2.0</td>\n",
       "      <td>20.0</td>\n",
       "      <td>0.071429</td>\n",
       "      <td>1.0</td>\n",
       "      <td>19.0</td>\n",
       "      <td>0.050000</td>\n",
       "      <td>0.950000</td>\n",
       "    </tr>\n",
       "    <tr>\n",
       "      <th>3</th>\n",
       "      <td>3.0</td>\n",
       "      <td>14.0</td>\n",
       "      <td>0.048951</td>\n",
       "      <td>7.0</td>\n",
       "      <td>7.0</td>\n",
       "      <td>0.500000</td>\n",
       "      <td>0.500000</td>\n",
       "    </tr>\n",
       "    <tr>\n",
       "      <th>4</th>\n",
       "      <td>4.0</td>\n",
       "      <td>14.0</td>\n",
       "      <td>0.048951</td>\n",
       "      <td>4.0</td>\n",
       "      <td>10.0</td>\n",
       "      <td>0.285714</td>\n",
       "      <td>0.714286</td>\n",
       "    </tr>\n",
       "    <tr>\n",
       "      <th>5</th>\n",
       "      <td>5.0</td>\n",
       "      <td>29.0</td>\n",
       "      <td>0.107011</td>\n",
       "      <td>2.0</td>\n",
       "      <td>27.0</td>\n",
       "      <td>0.068966</td>\n",
       "      <td>0.931034</td>\n",
       "    </tr>\n",
       "  </tbody>\n",
       "</table>\n",
       "</div>"
      ],
      "text/plain": [
       "   item  ratings      odds  relevant  non_relevant  average_rel  \\\n",
       "1   1.0     83.0  0.382488      52.0          31.0     0.626506   \n",
       "2   2.0     20.0  0.071429       1.0          19.0     0.050000   \n",
       "3   3.0     14.0  0.048951       7.0           7.0     0.500000   \n",
       "4   4.0     14.0  0.048951       4.0          10.0     0.285714   \n",
       "5   5.0     29.0  0.107011       2.0          27.0     0.068966   \n",
       "\n",
       "   average_non_rel  \n",
       "1         0.373494  \n",
       "2         0.950000  \n",
       "3         0.500000  \n",
       "4         0.714286  \n",
       "5         0.931034  "
      ]
     },
     "execution_count": 49,
     "metadata": {},
     "output_type": "execute_result"
    }
   ],
   "source": [
    "o.head()"
   ]
  },
  {
   "cell_type": "code",
   "execution_count": 50,
   "metadata": {},
   "outputs": [
    {
     "data": {
      "text/html": [
       "<div>\n",
       "<style scoped>\n",
       "    .dataframe tbody tr th:only-of-type {\n",
       "        vertical-align: middle;\n",
       "    }\n",
       "\n",
       "    .dataframe tbody tr th {\n",
       "        vertical-align: top;\n",
       "    }\n",
       "\n",
       "    .dataframe thead th {\n",
       "        text-align: right;\n",
       "    }\n",
       "</style>\n",
       "<table border=\"1\" class=\"dataframe\">\n",
       "  <thead>\n",
       "    <tr style=\"text-align: right;\">\n",
       "      <th></th>\n",
       "      <th>a</th>\n",
       "      <th>b</th>\n",
       "    </tr>\n",
       "  </thead>\n",
       "  <tbody>\n",
       "    <tr>\n",
       "      <th>0</th>\n",
       "      <td>1</td>\n",
       "      <td>2</td>\n",
       "    </tr>\n",
       "    <tr>\n",
       "      <th>1</th>\n",
       "      <td>1</td>\n",
       "      <td>3</td>\n",
       "    </tr>\n",
       "    <tr>\n",
       "      <th>2</th>\n",
       "      <td>1</td>\n",
       "      <td>4</td>\n",
       "    </tr>\n",
       "    <tr>\n",
       "      <th>3</th>\n",
       "      <td>1</td>\n",
       "      <td>5</td>\n",
       "    </tr>\n",
       "    <tr>\n",
       "      <th>4</th>\n",
       "      <td>1</td>\n",
       "      <td>6</td>\n",
       "    </tr>\n",
       "  </tbody>\n",
       "</table>\n",
       "</div>"
      ],
      "text/plain": [
       "   a  b\n",
       "0  1  2\n",
       "1  1  3\n",
       "2  1  4\n",
       "3  1  5\n",
       "4  1  6"
      ]
     },
     "execution_count": 50,
     "metadata": {},
     "output_type": "execute_result"
    }
   ],
   "source": [
    "r.head()"
   ]
  },
  {
   "cell_type": "code",
   "execution_count": 51,
   "metadata": {},
   "outputs": [
    {
     "name": "stdout",
     "output_type": "stream",
     "text": [
      "   a  b  item  ratings      odds  relevant  non_relevant  average_rel  \\\n",
      "0  1  2   1.0     83.0  0.382488      52.0          31.0     0.626506   \n",
      "1  1  3   1.0     83.0  0.382488      52.0          31.0     0.626506   \n",
      "2  1  4   1.0     83.0  0.382488      52.0          31.0     0.626506   \n",
      "3  1  5   1.0     83.0  0.382488      52.0          31.0     0.626506   \n",
      "4  1  6   1.0     83.0  0.382488      52.0          31.0     0.626506   \n",
      "\n",
      "   average_non_rel  \n",
      "0         0.373494  \n",
      "1         0.373494  \n",
      "2         0.373494  \n",
      "3         0.373494  \n",
      "4         0.373494  \n"
     ]
    }
   ],
   "source": [
    "merged=pd.merge(r,o,left_on='a',right_on='item') #merge with 1st item (a), didn't need to use outer join\n",
    "print(merged.head())"
   ]
  },
  {
   "cell_type": "code",
   "execution_count": 52,
   "metadata": {},
   "outputs": [
    {
     "data": {
      "text/html": [
       "<div>\n",
       "<style scoped>\n",
       "    .dataframe tbody tr th:only-of-type {\n",
       "        vertical-align: middle;\n",
       "    }\n",
       "\n",
       "    .dataframe tbody tr th {\n",
       "        vertical-align: top;\n",
       "    }\n",
       "\n",
       "    .dataframe thead th {\n",
       "        text-align: right;\n",
       "    }\n",
       "</style>\n",
       "<table border=\"1\" class=\"dataframe\">\n",
       "  <thead>\n",
       "    <tr style=\"text-align: right;\">\n",
       "      <th></th>\n",
       "      <th>a</th>\n",
       "      <th>b</th>\n",
       "      <th>item</th>\n",
       "      <th>ratings</th>\n",
       "      <th>odds</th>\n",
       "      <th>relevant</th>\n",
       "      <th>non_relevant</th>\n",
       "      <th>average_rel</th>\n",
       "      <th>average_non_rel</th>\n",
       "    </tr>\n",
       "  </thead>\n",
       "  <tbody>\n",
       "    <tr>\n",
       "      <th>21528</th>\n",
       "      <td>73</td>\n",
       "      <td>1</td>\n",
       "      <td>73.0</td>\n",
       "      <td>17.0</td>\n",
       "      <td>0.060071</td>\n",
       "      <td>5.0</td>\n",
       "      <td>12.0</td>\n",
       "      <td>0.294118</td>\n",
       "      <td>0.705882</td>\n",
       "    </tr>\n",
       "    <tr>\n",
       "      <th>21529</th>\n",
       "      <td>73</td>\n",
       "      <td>2</td>\n",
       "      <td>73.0</td>\n",
       "      <td>17.0</td>\n",
       "      <td>0.060071</td>\n",
       "      <td>5.0</td>\n",
       "      <td>12.0</td>\n",
       "      <td>0.294118</td>\n",
       "      <td>0.705882</td>\n",
       "    </tr>\n",
       "    <tr>\n",
       "      <th>21530</th>\n",
       "      <td>73</td>\n",
       "      <td>3</td>\n",
       "      <td>73.0</td>\n",
       "      <td>17.0</td>\n",
       "      <td>0.060071</td>\n",
       "      <td>5.0</td>\n",
       "      <td>12.0</td>\n",
       "      <td>0.294118</td>\n",
       "      <td>0.705882</td>\n",
       "    </tr>\n",
       "    <tr>\n",
       "      <th>21531</th>\n",
       "      <td>73</td>\n",
       "      <td>4</td>\n",
       "      <td>73.0</td>\n",
       "      <td>17.0</td>\n",
       "      <td>0.060071</td>\n",
       "      <td>5.0</td>\n",
       "      <td>12.0</td>\n",
       "      <td>0.294118</td>\n",
       "      <td>0.705882</td>\n",
       "    </tr>\n",
       "    <tr>\n",
       "      <th>21532</th>\n",
       "      <td>73</td>\n",
       "      <td>5</td>\n",
       "      <td>73.0</td>\n",
       "      <td>17.0</td>\n",
       "      <td>0.060071</td>\n",
       "      <td>5.0</td>\n",
       "      <td>12.0</td>\n",
       "      <td>0.294118</td>\n",
       "      <td>0.705882</td>\n",
       "    </tr>\n",
       "    <tr>\n",
       "      <th>...</th>\n",
       "      <td>...</td>\n",
       "      <td>...</td>\n",
       "      <td>...</td>\n",
       "      <td>...</td>\n",
       "      <td>...</td>\n",
       "      <td>...</td>\n",
       "      <td>...</td>\n",
       "      <td>...</td>\n",
       "      <td>...</td>\n",
       "    </tr>\n",
       "    <tr>\n",
       "      <th>21822</th>\n",
       "      <td>73</td>\n",
       "      <td>296</td>\n",
       "      <td>73.0</td>\n",
       "      <td>17.0</td>\n",
       "      <td>0.060071</td>\n",
       "      <td>5.0</td>\n",
       "      <td>12.0</td>\n",
       "      <td>0.294118</td>\n",
       "      <td>0.705882</td>\n",
       "    </tr>\n",
       "    <tr>\n",
       "      <th>21823</th>\n",
       "      <td>73</td>\n",
       "      <td>297</td>\n",
       "      <td>73.0</td>\n",
       "      <td>17.0</td>\n",
       "      <td>0.060071</td>\n",
       "      <td>5.0</td>\n",
       "      <td>12.0</td>\n",
       "      <td>0.294118</td>\n",
       "      <td>0.705882</td>\n",
       "    </tr>\n",
       "    <tr>\n",
       "      <th>21824</th>\n",
       "      <td>73</td>\n",
       "      <td>298</td>\n",
       "      <td>73.0</td>\n",
       "      <td>17.0</td>\n",
       "      <td>0.060071</td>\n",
       "      <td>5.0</td>\n",
       "      <td>12.0</td>\n",
       "      <td>0.294118</td>\n",
       "      <td>0.705882</td>\n",
       "    </tr>\n",
       "    <tr>\n",
       "      <th>21825</th>\n",
       "      <td>73</td>\n",
       "      <td>299</td>\n",
       "      <td>73.0</td>\n",
       "      <td>17.0</td>\n",
       "      <td>0.060071</td>\n",
       "      <td>5.0</td>\n",
       "      <td>12.0</td>\n",
       "      <td>0.294118</td>\n",
       "      <td>0.705882</td>\n",
       "    </tr>\n",
       "    <tr>\n",
       "      <th>21826</th>\n",
       "      <td>73</td>\n",
       "      <td>300</td>\n",
       "      <td>73.0</td>\n",
       "      <td>17.0</td>\n",
       "      <td>0.060071</td>\n",
       "      <td>5.0</td>\n",
       "      <td>12.0</td>\n",
       "      <td>0.294118</td>\n",
       "      <td>0.705882</td>\n",
       "    </tr>\n",
       "  </tbody>\n",
       "</table>\n",
       "<p>299 rows × 9 columns</p>\n",
       "</div>"
      ],
      "text/plain": [
       "        a    b  item  ratings      odds  relevant  non_relevant  average_rel  \\\n",
       "21528  73    1  73.0     17.0  0.060071       5.0          12.0     0.294118   \n",
       "21529  73    2  73.0     17.0  0.060071       5.0          12.0     0.294118   \n",
       "21530  73    3  73.0     17.0  0.060071       5.0          12.0     0.294118   \n",
       "21531  73    4  73.0     17.0  0.060071       5.0          12.0     0.294118   \n",
       "21532  73    5  73.0     17.0  0.060071       5.0          12.0     0.294118   \n",
       "...    ..  ...   ...      ...       ...       ...           ...          ...   \n",
       "21822  73  296  73.0     17.0  0.060071       5.0          12.0     0.294118   \n",
       "21823  73  297  73.0     17.0  0.060071       5.0          12.0     0.294118   \n",
       "21824  73  298  73.0     17.0  0.060071       5.0          12.0     0.294118   \n",
       "21825  73  299  73.0     17.0  0.060071       5.0          12.0     0.294118   \n",
       "21826  73  300  73.0     17.0  0.060071       5.0          12.0     0.294118   \n",
       "\n",
       "       average_non_rel  \n",
       "21528         0.705882  \n",
       "21529         0.705882  \n",
       "21530         0.705882  \n",
       "21531         0.705882  \n",
       "21532         0.705882  \n",
       "...                ...  \n",
       "21822         0.705882  \n",
       "21823         0.705882  \n",
       "21824         0.705882  \n",
       "21825         0.705882  \n",
       "21826         0.705882  \n",
       "\n",
       "[299 rows x 9 columns]"
      ]
     },
     "execution_count": 52,
     "metadata": {},
     "output_type": "execute_result"
    }
   ],
   "source": [
    "merged.loc[merged['a']==73]"
   ]
  },
  {
   "cell_type": "code",
   "execution_count": 53,
   "metadata": {},
   "outputs": [
    {
     "name": "stdout",
     "output_type": "stream",
     "text": [
      "   a  b  item_x  ratings_x    odds_x  relevant_x  non_relevant_x  \\\n",
      "0  1  2     1.0       83.0  0.382488        52.0            31.0   \n",
      "1  3  2     3.0       14.0  0.048951         7.0             7.0   \n",
      "2  4  2     4.0       14.0  0.048951         4.0            10.0   \n",
      "3  5  2     5.0       29.0  0.107011         2.0            27.0   \n",
      "4  6  2     6.0       13.0  0.045296         0.0            13.0   \n",
      "\n",
      "   average_rel_x  average_non_rel_x  item_y  ratings_y    odds_y  relevant_y  \\\n",
      "0       0.626506           0.373494     2.0       20.0  0.071429         1.0   \n",
      "1       0.500000           0.500000     2.0       20.0  0.071429         1.0   \n",
      "2       0.285714           0.714286     2.0       20.0  0.071429         1.0   \n",
      "3       0.068966           0.931034     2.0       20.0  0.071429         1.0   \n",
      "4       0.000000           1.000000     2.0       20.0  0.071429         1.0   \n",
      "\n",
      "   non_relevant_y  average_rel_y  average_non_rel_y  \n",
      "0            19.0           0.05               0.95  \n",
      "1            19.0           0.05               0.95  \n",
      "2            19.0           0.05               0.95  \n",
      "3            19.0           0.05               0.95  \n",
      "4            19.0           0.05               0.95  \n"
     ]
    }
   ],
   "source": [
    "merged2=pd.merge(merged,o,left_on='b',right_on='item') #merge also with item b\n",
    "print(merged2.head())"
   ]
  },
  {
   "cell_type": "code",
   "execution_count": 54,
   "metadata": {},
   "outputs": [
    {
     "data": {
      "text/html": [
       "<div>\n",
       "<style scoped>\n",
       "    .dataframe tbody tr th:only-of-type {\n",
       "        vertical-align: middle;\n",
       "    }\n",
       "\n",
       "    .dataframe tbody tr th {\n",
       "        vertical-align: top;\n",
       "    }\n",
       "\n",
       "    .dataframe thead th {\n",
       "        text-align: right;\n",
       "    }\n",
       "</style>\n",
       "<table border=\"1\" class=\"dataframe\">\n",
       "  <thead>\n",
       "    <tr style=\"text-align: right;\">\n",
       "      <th></th>\n",
       "      <th>a</th>\n",
       "      <th>b</th>\n",
       "      <th>item_x</th>\n",
       "      <th>ratings_x</th>\n",
       "      <th>odds_x</th>\n",
       "      <th>relevant_x</th>\n",
       "      <th>non_relevant_x</th>\n",
       "      <th>average_rel_x</th>\n",
       "      <th>average_non_rel_x</th>\n",
       "      <th>item_y</th>\n",
       "      <th>ratings_y</th>\n",
       "      <th>odds_y</th>\n",
       "      <th>relevant_y</th>\n",
       "      <th>non_relevant_y</th>\n",
       "      <th>average_rel_y</th>\n",
       "      <th>average_non_rel_y</th>\n",
       "    </tr>\n",
       "  </thead>\n",
       "  <tbody>\n",
       "    <tr>\n",
       "      <th>71</th>\n",
       "      <td>73</td>\n",
       "      <td>2</td>\n",
       "      <td>73.0</td>\n",
       "      <td>17.0</td>\n",
       "      <td>0.060071</td>\n",
       "      <td>5.0</td>\n",
       "      <td>12.0</td>\n",
       "      <td>0.294118</td>\n",
       "      <td>0.705882</td>\n",
       "      <td>2.0</td>\n",
       "      <td>20.0</td>\n",
       "      <td>0.071429</td>\n",
       "      <td>1.0</td>\n",
       "      <td>19.0</td>\n",
       "      <td>0.050000</td>\n",
       "      <td>0.950000</td>\n",
       "    </tr>\n",
       "    <tr>\n",
       "      <th>370</th>\n",
       "      <td>73</td>\n",
       "      <td>3</td>\n",
       "      <td>73.0</td>\n",
       "      <td>17.0</td>\n",
       "      <td>0.060071</td>\n",
       "      <td>5.0</td>\n",
       "      <td>12.0</td>\n",
       "      <td>0.294118</td>\n",
       "      <td>0.705882</td>\n",
       "      <td>3.0</td>\n",
       "      <td>14.0</td>\n",
       "      <td>0.048951</td>\n",
       "      <td>7.0</td>\n",
       "      <td>7.0</td>\n",
       "      <td>0.500000</td>\n",
       "      <td>0.500000</td>\n",
       "    </tr>\n",
       "    <tr>\n",
       "      <th>669</th>\n",
       "      <td>73</td>\n",
       "      <td>4</td>\n",
       "      <td>73.0</td>\n",
       "      <td>17.0</td>\n",
       "      <td>0.060071</td>\n",
       "      <td>5.0</td>\n",
       "      <td>12.0</td>\n",
       "      <td>0.294118</td>\n",
       "      <td>0.705882</td>\n",
       "      <td>4.0</td>\n",
       "      <td>14.0</td>\n",
       "      <td>0.048951</td>\n",
       "      <td>4.0</td>\n",
       "      <td>10.0</td>\n",
       "      <td>0.285714</td>\n",
       "      <td>0.714286</td>\n",
       "    </tr>\n",
       "    <tr>\n",
       "      <th>968</th>\n",
       "      <td>73</td>\n",
       "      <td>5</td>\n",
       "      <td>73.0</td>\n",
       "      <td>17.0</td>\n",
       "      <td>0.060071</td>\n",
       "      <td>5.0</td>\n",
       "      <td>12.0</td>\n",
       "      <td>0.294118</td>\n",
       "      <td>0.705882</td>\n",
       "      <td>5.0</td>\n",
       "      <td>29.0</td>\n",
       "      <td>0.107011</td>\n",
       "      <td>2.0</td>\n",
       "      <td>27.0</td>\n",
       "      <td>0.068966</td>\n",
       "      <td>0.931034</td>\n",
       "    </tr>\n",
       "    <tr>\n",
       "      <th>1267</th>\n",
       "      <td>73</td>\n",
       "      <td>6</td>\n",
       "      <td>73.0</td>\n",
       "      <td>17.0</td>\n",
       "      <td>0.060071</td>\n",
       "      <td>5.0</td>\n",
       "      <td>12.0</td>\n",
       "      <td>0.294118</td>\n",
       "      <td>0.705882</td>\n",
       "      <td>6.0</td>\n",
       "      <td>13.0</td>\n",
       "      <td>0.045296</td>\n",
       "      <td>0.0</td>\n",
       "      <td>13.0</td>\n",
       "      <td>0.000000</td>\n",
       "      <td>1.000000</td>\n",
       "    </tr>\n",
       "    <tr>\n",
       "      <th>...</th>\n",
       "      <td>...</td>\n",
       "      <td>...</td>\n",
       "      <td>...</td>\n",
       "      <td>...</td>\n",
       "      <td>...</td>\n",
       "      <td>...</td>\n",
       "      <td>...</td>\n",
       "      <td>...</td>\n",
       "      <td>...</td>\n",
       "      <td>...</td>\n",
       "      <td>...</td>\n",
       "      <td>...</td>\n",
       "      <td>...</td>\n",
       "      <td>...</td>\n",
       "      <td>...</td>\n",
       "      <td>...</td>\n",
       "    </tr>\n",
       "    <tr>\n",
       "      <th>88277</th>\n",
       "      <td>73</td>\n",
       "      <td>297</td>\n",
       "      <td>73.0</td>\n",
       "      <td>17.0</td>\n",
       "      <td>0.060071</td>\n",
       "      <td>5.0</td>\n",
       "      <td>12.0</td>\n",
       "      <td>0.294118</td>\n",
       "      <td>0.705882</td>\n",
       "      <td>297.0</td>\n",
       "      <td>17.0</td>\n",
       "      <td>0.060071</td>\n",
       "      <td>8.0</td>\n",
       "      <td>9.0</td>\n",
       "      <td>0.470588</td>\n",
       "      <td>0.529412</td>\n",
       "    </tr>\n",
       "    <tr>\n",
       "      <th>88576</th>\n",
       "      <td>73</td>\n",
       "      <td>298</td>\n",
       "      <td>73.0</td>\n",
       "      <td>17.0</td>\n",
       "      <td>0.060071</td>\n",
       "      <td>5.0</td>\n",
       "      <td>12.0</td>\n",
       "      <td>0.294118</td>\n",
       "      <td>0.705882</td>\n",
       "      <td>298.0</td>\n",
       "      <td>20.0</td>\n",
       "      <td>0.071429</td>\n",
       "      <td>12.0</td>\n",
       "      <td>8.0</td>\n",
       "      <td>0.600000</td>\n",
       "      <td>0.400000</td>\n",
       "    </tr>\n",
       "    <tr>\n",
       "      <th>88875</th>\n",
       "      <td>73</td>\n",
       "      <td>299</td>\n",
       "      <td>73.0</td>\n",
       "      <td>17.0</td>\n",
       "      <td>0.060071</td>\n",
       "      <td>5.0</td>\n",
       "      <td>12.0</td>\n",
       "      <td>0.294118</td>\n",
       "      <td>0.705882</td>\n",
       "      <td>299.0</td>\n",
       "      <td>28.0</td>\n",
       "      <td>0.102941</td>\n",
       "      <td>6.0</td>\n",
       "      <td>22.0</td>\n",
       "      <td>0.214286</td>\n",
       "      <td>0.785714</td>\n",
       "    </tr>\n",
       "    <tr>\n",
       "      <th>89174</th>\n",
       "      <td>73</td>\n",
       "      <td>300</td>\n",
       "      <td>73.0</td>\n",
       "      <td>17.0</td>\n",
       "      <td>0.060071</td>\n",
       "      <td>5.0</td>\n",
       "      <td>12.0</td>\n",
       "      <td>0.294118</td>\n",
       "      <td>0.705882</td>\n",
       "      <td>300.0</td>\n",
       "      <td>15.0</td>\n",
       "      <td>0.052632</td>\n",
       "      <td>6.0</td>\n",
       "      <td>9.0</td>\n",
       "      <td>0.400000</td>\n",
       "      <td>0.600000</td>\n",
       "    </tr>\n",
       "    <tr>\n",
       "      <th>89472</th>\n",
       "      <td>73</td>\n",
       "      <td>1</td>\n",
       "      <td>73.0</td>\n",
       "      <td>17.0</td>\n",
       "      <td>0.060071</td>\n",
       "      <td>5.0</td>\n",
       "      <td>12.0</td>\n",
       "      <td>0.294118</td>\n",
       "      <td>0.705882</td>\n",
       "      <td>1.0</td>\n",
       "      <td>83.0</td>\n",
       "      <td>0.382488</td>\n",
       "      <td>52.0</td>\n",
       "      <td>31.0</td>\n",
       "      <td>0.626506</td>\n",
       "      <td>0.373494</td>\n",
       "    </tr>\n",
       "  </tbody>\n",
       "</table>\n",
       "<p>299 rows × 16 columns</p>\n",
       "</div>"
      ],
      "text/plain": [
       "        a    b  item_x  ratings_x    odds_x  relevant_x  non_relevant_x  \\\n",
       "71     73    2    73.0       17.0  0.060071         5.0            12.0   \n",
       "370    73    3    73.0       17.0  0.060071         5.0            12.0   \n",
       "669    73    4    73.0       17.0  0.060071         5.0            12.0   \n",
       "968    73    5    73.0       17.0  0.060071         5.0            12.0   \n",
       "1267   73    6    73.0       17.0  0.060071         5.0            12.0   \n",
       "...    ..  ...     ...        ...       ...         ...             ...   \n",
       "88277  73  297    73.0       17.0  0.060071         5.0            12.0   \n",
       "88576  73  298    73.0       17.0  0.060071         5.0            12.0   \n",
       "88875  73  299    73.0       17.0  0.060071         5.0            12.0   \n",
       "89174  73  300    73.0       17.0  0.060071         5.0            12.0   \n",
       "89472  73    1    73.0       17.0  0.060071         5.0            12.0   \n",
       "\n",
       "       average_rel_x  average_non_rel_x  item_y  ratings_y    odds_y  \\\n",
       "71          0.294118           0.705882     2.0       20.0  0.071429   \n",
       "370         0.294118           0.705882     3.0       14.0  0.048951   \n",
       "669         0.294118           0.705882     4.0       14.0  0.048951   \n",
       "968         0.294118           0.705882     5.0       29.0  0.107011   \n",
       "1267        0.294118           0.705882     6.0       13.0  0.045296   \n",
       "...              ...                ...     ...        ...       ...   \n",
       "88277       0.294118           0.705882   297.0       17.0  0.060071   \n",
       "88576       0.294118           0.705882   298.0       20.0  0.071429   \n",
       "88875       0.294118           0.705882   299.0       28.0  0.102941   \n",
       "89174       0.294118           0.705882   300.0       15.0  0.052632   \n",
       "89472       0.294118           0.705882     1.0       83.0  0.382488   \n",
       "\n",
       "       relevant_y  non_relevant_y  average_rel_y  average_non_rel_y  \n",
       "71            1.0            19.0       0.050000           0.950000  \n",
       "370           7.0             7.0       0.500000           0.500000  \n",
       "669           4.0            10.0       0.285714           0.714286  \n",
       "968           2.0            27.0       0.068966           0.931034  \n",
       "1267          0.0            13.0       0.000000           1.000000  \n",
       "...           ...             ...            ...                ...  \n",
       "88277         8.0             9.0       0.470588           0.529412  \n",
       "88576        12.0             8.0       0.600000           0.400000  \n",
       "88875         6.0            22.0       0.214286           0.785714  \n",
       "89174         6.0             9.0       0.400000           0.600000  \n",
       "89472        52.0            31.0       0.626506           0.373494  \n",
       "\n",
       "[299 rows x 16 columns]"
      ]
     },
     "execution_count": 54,
     "metadata": {},
     "output_type": "execute_result"
    }
   ],
   "source": [
    "merged2.loc[merged2['a']==73]"
   ]
  },
  {
   "cell_type": "code",
   "execution_count": 55,
   "metadata": {
    "scrolled": true
   },
   "outputs": [
    {
     "data": {
      "text/html": [
       "<div>\n",
       "<style scoped>\n",
       "    .dataframe tbody tr th:only-of-type {\n",
       "        vertical-align: middle;\n",
       "    }\n",
       "\n",
       "    .dataframe tbody tr th {\n",
       "        vertical-align: top;\n",
       "    }\n",
       "\n",
       "    .dataframe thead th {\n",
       "        text-align: right;\n",
       "    }\n",
       "</style>\n",
       "<table border=\"1\" class=\"dataframe\">\n",
       "  <thead>\n",
       "    <tr style=\"text-align: right;\">\n",
       "      <th></th>\n",
       "      <th>a</th>\n",
       "      <th>b</th>\n",
       "      <th>item_x</th>\n",
       "      <th>ratings_x</th>\n",
       "      <th>odds_x</th>\n",
       "      <th>relevant_x</th>\n",
       "      <th>non_relevant_x</th>\n",
       "      <th>average_rel_x</th>\n",
       "      <th>average_non_rel_x</th>\n",
       "      <th>item_y</th>\n",
       "      <th>ratings_y</th>\n",
       "      <th>odds_y</th>\n",
       "      <th>relevant_y</th>\n",
       "      <th>non_relevant_y</th>\n",
       "      <th>average_rel_y</th>\n",
       "      <th>average_non_rel_y</th>\n",
       "    </tr>\n",
       "  </thead>\n",
       "  <tbody>\n",
       "    <tr>\n",
       "      <th>24817</th>\n",
       "      <td>1</td>\n",
       "      <td>85</td>\n",
       "      <td>1.0</td>\n",
       "      <td>83.0</td>\n",
       "      <td>0.382488</td>\n",
       "      <td>52.0</td>\n",
       "      <td>31.0</td>\n",
       "      <td>0.626506</td>\n",
       "      <td>0.373494</td>\n",
       "      <td>85.0</td>\n",
       "      <td>28.0</td>\n",
       "      <td>0.102941</td>\n",
       "      <td>11.0</td>\n",
       "      <td>17.0</td>\n",
       "      <td>0.392857</td>\n",
       "      <td>0.607143</td>\n",
       "    </tr>\n",
       "    <tr>\n",
       "      <th>24818</th>\n",
       "      <td>2</td>\n",
       "      <td>85</td>\n",
       "      <td>2.0</td>\n",
       "      <td>20.0</td>\n",
       "      <td>0.071429</td>\n",
       "      <td>1.0</td>\n",
       "      <td>19.0</td>\n",
       "      <td>0.050000</td>\n",
       "      <td>0.950000</td>\n",
       "      <td>85.0</td>\n",
       "      <td>28.0</td>\n",
       "      <td>0.102941</td>\n",
       "      <td>11.0</td>\n",
       "      <td>17.0</td>\n",
       "      <td>0.392857</td>\n",
       "      <td>0.607143</td>\n",
       "    </tr>\n",
       "    <tr>\n",
       "      <th>24819</th>\n",
       "      <td>3</td>\n",
       "      <td>85</td>\n",
       "      <td>3.0</td>\n",
       "      <td>14.0</td>\n",
       "      <td>0.048951</td>\n",
       "      <td>7.0</td>\n",
       "      <td>7.0</td>\n",
       "      <td>0.500000</td>\n",
       "      <td>0.500000</td>\n",
       "      <td>85.0</td>\n",
       "      <td>28.0</td>\n",
       "      <td>0.102941</td>\n",
       "      <td>11.0</td>\n",
       "      <td>17.0</td>\n",
       "      <td>0.392857</td>\n",
       "      <td>0.607143</td>\n",
       "    </tr>\n",
       "    <tr>\n",
       "      <th>24820</th>\n",
       "      <td>4</td>\n",
       "      <td>85</td>\n",
       "      <td>4.0</td>\n",
       "      <td>14.0</td>\n",
       "      <td>0.048951</td>\n",
       "      <td>4.0</td>\n",
       "      <td>10.0</td>\n",
       "      <td>0.285714</td>\n",
       "      <td>0.714286</td>\n",
       "      <td>85.0</td>\n",
       "      <td>28.0</td>\n",
       "      <td>0.102941</td>\n",
       "      <td>11.0</td>\n",
       "      <td>17.0</td>\n",
       "      <td>0.392857</td>\n",
       "      <td>0.607143</td>\n",
       "    </tr>\n",
       "    <tr>\n",
       "      <th>24821</th>\n",
       "      <td>5</td>\n",
       "      <td>85</td>\n",
       "      <td>5.0</td>\n",
       "      <td>29.0</td>\n",
       "      <td>0.107011</td>\n",
       "      <td>2.0</td>\n",
       "      <td>27.0</td>\n",
       "      <td>0.068966</td>\n",
       "      <td>0.931034</td>\n",
       "      <td>85.0</td>\n",
       "      <td>28.0</td>\n",
       "      <td>0.102941</td>\n",
       "      <td>11.0</td>\n",
       "      <td>17.0</td>\n",
       "      <td>0.392857</td>\n",
       "      <td>0.607143</td>\n",
       "    </tr>\n",
       "    <tr>\n",
       "      <th>...</th>\n",
       "      <td>...</td>\n",
       "      <td>...</td>\n",
       "      <td>...</td>\n",
       "      <td>...</td>\n",
       "      <td>...</td>\n",
       "      <td>...</td>\n",
       "      <td>...</td>\n",
       "      <td>...</td>\n",
       "      <td>...</td>\n",
       "      <td>...</td>\n",
       "      <td>...</td>\n",
       "      <td>...</td>\n",
       "      <td>...</td>\n",
       "      <td>...</td>\n",
       "      <td>...</td>\n",
       "      <td>...</td>\n",
       "    </tr>\n",
       "    <tr>\n",
       "      <th>25111</th>\n",
       "      <td>296</td>\n",
       "      <td>85</td>\n",
       "      <td>296.0</td>\n",
       "      <td>22.0</td>\n",
       "      <td>0.079137</td>\n",
       "      <td>10.0</td>\n",
       "      <td>12.0</td>\n",
       "      <td>0.454545</td>\n",
       "      <td>0.545455</td>\n",
       "      <td>85.0</td>\n",
       "      <td>28.0</td>\n",
       "      <td>0.102941</td>\n",
       "      <td>11.0</td>\n",
       "      <td>17.0</td>\n",
       "      <td>0.392857</td>\n",
       "      <td>0.607143</td>\n",
       "    </tr>\n",
       "    <tr>\n",
       "      <th>25112</th>\n",
       "      <td>297</td>\n",
       "      <td>85</td>\n",
       "      <td>297.0</td>\n",
       "      <td>17.0</td>\n",
       "      <td>0.060071</td>\n",
       "      <td>8.0</td>\n",
       "      <td>9.0</td>\n",
       "      <td>0.470588</td>\n",
       "      <td>0.529412</td>\n",
       "      <td>85.0</td>\n",
       "      <td>28.0</td>\n",
       "      <td>0.102941</td>\n",
       "      <td>11.0</td>\n",
       "      <td>17.0</td>\n",
       "      <td>0.392857</td>\n",
       "      <td>0.607143</td>\n",
       "    </tr>\n",
       "    <tr>\n",
       "      <th>25113</th>\n",
       "      <td>298</td>\n",
       "      <td>85</td>\n",
       "      <td>298.0</td>\n",
       "      <td>20.0</td>\n",
       "      <td>0.071429</td>\n",
       "      <td>12.0</td>\n",
       "      <td>8.0</td>\n",
       "      <td>0.600000</td>\n",
       "      <td>0.400000</td>\n",
       "      <td>85.0</td>\n",
       "      <td>28.0</td>\n",
       "      <td>0.102941</td>\n",
       "      <td>11.0</td>\n",
       "      <td>17.0</td>\n",
       "      <td>0.392857</td>\n",
       "      <td>0.607143</td>\n",
       "    </tr>\n",
       "    <tr>\n",
       "      <th>25114</th>\n",
       "      <td>299</td>\n",
       "      <td>85</td>\n",
       "      <td>299.0</td>\n",
       "      <td>28.0</td>\n",
       "      <td>0.102941</td>\n",
       "      <td>6.0</td>\n",
       "      <td>22.0</td>\n",
       "      <td>0.214286</td>\n",
       "      <td>0.785714</td>\n",
       "      <td>85.0</td>\n",
       "      <td>28.0</td>\n",
       "      <td>0.102941</td>\n",
       "      <td>11.0</td>\n",
       "      <td>17.0</td>\n",
       "      <td>0.392857</td>\n",
       "      <td>0.607143</td>\n",
       "    </tr>\n",
       "    <tr>\n",
       "      <th>25115</th>\n",
       "      <td>300</td>\n",
       "      <td>85</td>\n",
       "      <td>300.0</td>\n",
       "      <td>15.0</td>\n",
       "      <td>0.052632</td>\n",
       "      <td>6.0</td>\n",
       "      <td>9.0</td>\n",
       "      <td>0.400000</td>\n",
       "      <td>0.600000</td>\n",
       "      <td>85.0</td>\n",
       "      <td>28.0</td>\n",
       "      <td>0.102941</td>\n",
       "      <td>11.0</td>\n",
       "      <td>17.0</td>\n",
       "      <td>0.392857</td>\n",
       "      <td>0.607143</td>\n",
       "    </tr>\n",
       "  </tbody>\n",
       "</table>\n",
       "<p>299 rows × 16 columns</p>\n",
       "</div>"
      ],
      "text/plain": [
       "         a   b  item_x  ratings_x    odds_x  relevant_x  non_relevant_x  \\\n",
       "24817    1  85     1.0       83.0  0.382488        52.0            31.0   \n",
       "24818    2  85     2.0       20.0  0.071429         1.0            19.0   \n",
       "24819    3  85     3.0       14.0  0.048951         7.0             7.0   \n",
       "24820    4  85     4.0       14.0  0.048951         4.0            10.0   \n",
       "24821    5  85     5.0       29.0  0.107011         2.0            27.0   \n",
       "...    ...  ..     ...        ...       ...         ...             ...   \n",
       "25111  296  85   296.0       22.0  0.079137        10.0            12.0   \n",
       "25112  297  85   297.0       17.0  0.060071         8.0             9.0   \n",
       "25113  298  85   298.0       20.0  0.071429        12.0             8.0   \n",
       "25114  299  85   299.0       28.0  0.102941         6.0            22.0   \n",
       "25115  300  85   300.0       15.0  0.052632         6.0             9.0   \n",
       "\n",
       "       average_rel_x  average_non_rel_x  item_y  ratings_y    odds_y  \\\n",
       "24817       0.626506           0.373494    85.0       28.0  0.102941   \n",
       "24818       0.050000           0.950000    85.0       28.0  0.102941   \n",
       "24819       0.500000           0.500000    85.0       28.0  0.102941   \n",
       "24820       0.285714           0.714286    85.0       28.0  0.102941   \n",
       "24821       0.068966           0.931034    85.0       28.0  0.102941   \n",
       "...              ...                ...     ...        ...       ...   \n",
       "25111       0.454545           0.545455    85.0       28.0  0.102941   \n",
       "25112       0.470588           0.529412    85.0       28.0  0.102941   \n",
       "25113       0.600000           0.400000    85.0       28.0  0.102941   \n",
       "25114       0.214286           0.785714    85.0       28.0  0.102941   \n",
       "25115       0.400000           0.600000    85.0       28.0  0.102941   \n",
       "\n",
       "       relevant_y  non_relevant_y  average_rel_y  average_non_rel_y  \n",
       "24817        11.0            17.0       0.392857           0.607143  \n",
       "24818        11.0            17.0       0.392857           0.607143  \n",
       "24819        11.0            17.0       0.392857           0.607143  \n",
       "24820        11.0            17.0       0.392857           0.607143  \n",
       "24821        11.0            17.0       0.392857           0.607143  \n",
       "...           ...             ...            ...                ...  \n",
       "25111        11.0            17.0       0.392857           0.607143  \n",
       "25112        11.0            17.0       0.392857           0.607143  \n",
       "25113        11.0            17.0       0.392857           0.607143  \n",
       "25114        11.0            17.0       0.392857           0.607143  \n",
       "25115        11.0            17.0       0.392857           0.607143  \n",
       "\n",
       "[299 rows x 16 columns]"
      ]
     },
     "execution_count": 55,
     "metadata": {},
     "output_type": "execute_result"
    }
   ],
   "source": [
    "merged2.loc[merged2['b']==85]"
   ]
  },
  {
   "cell_type": "markdown",
   "metadata": {},
   "source": [
    "finally compute steepness"
   ]
  },
  {
   "cell_type": "code",
   "execution_count": 56,
   "metadata": {},
   "outputs": [
    {
     "data": {
      "text/html": [
       "<div>\n",
       "<style scoped>\n",
       "    .dataframe tbody tr th:only-of-type {\n",
       "        vertical-align: middle;\n",
       "    }\n",
       "\n",
       "    .dataframe tbody tr th {\n",
       "        vertical-align: top;\n",
       "    }\n",
       "\n",
       "    .dataframe thead th {\n",
       "        text-align: right;\n",
       "    }\n",
       "</style>\n",
       "<table border=\"1\" class=\"dataframe\">\n",
       "  <thead>\n",
       "    <tr style=\"text-align: right;\">\n",
       "      <th></th>\n",
       "      <th>a</th>\n",
       "      <th>b</th>\n",
       "      <th>item_x</th>\n",
       "      <th>ratings_x</th>\n",
       "      <th>odds_x</th>\n",
       "      <th>relevant_x</th>\n",
       "      <th>non_relevant_x</th>\n",
       "      <th>average_rel_x</th>\n",
       "      <th>average_non_rel_x</th>\n",
       "      <th>item_y</th>\n",
       "      <th>ratings_y</th>\n",
       "      <th>odds_y</th>\n",
       "      <th>relevant_y</th>\n",
       "      <th>non_relevant_y</th>\n",
       "      <th>average_rel_y</th>\n",
       "      <th>average_non_rel_y</th>\n",
       "    </tr>\n",
       "  </thead>\n",
       "  <tbody>\n",
       "    <tr>\n",
       "      <th>0</th>\n",
       "      <td>1</td>\n",
       "      <td>2</td>\n",
       "      <td>1.0</td>\n",
       "      <td>83.0</td>\n",
       "      <td>0.382488</td>\n",
       "      <td>52.0</td>\n",
       "      <td>31.0</td>\n",
       "      <td>0.626506</td>\n",
       "      <td>0.373494</td>\n",
       "      <td>2.0</td>\n",
       "      <td>20.0</td>\n",
       "      <td>0.071429</td>\n",
       "      <td>1.0</td>\n",
       "      <td>19.0</td>\n",
       "      <td>0.05</td>\n",
       "      <td>0.95</td>\n",
       "    </tr>\n",
       "    <tr>\n",
       "      <th>1</th>\n",
       "      <td>3</td>\n",
       "      <td>2</td>\n",
       "      <td>3.0</td>\n",
       "      <td>14.0</td>\n",
       "      <td>0.048951</td>\n",
       "      <td>7.0</td>\n",
       "      <td>7.0</td>\n",
       "      <td>0.500000</td>\n",
       "      <td>0.500000</td>\n",
       "      <td>2.0</td>\n",
       "      <td>20.0</td>\n",
       "      <td>0.071429</td>\n",
       "      <td>1.0</td>\n",
       "      <td>19.0</td>\n",
       "      <td>0.05</td>\n",
       "      <td>0.95</td>\n",
       "    </tr>\n",
       "    <tr>\n",
       "      <th>2</th>\n",
       "      <td>4</td>\n",
       "      <td>2</td>\n",
       "      <td>4.0</td>\n",
       "      <td>14.0</td>\n",
       "      <td>0.048951</td>\n",
       "      <td>4.0</td>\n",
       "      <td>10.0</td>\n",
       "      <td>0.285714</td>\n",
       "      <td>0.714286</td>\n",
       "      <td>2.0</td>\n",
       "      <td>20.0</td>\n",
       "      <td>0.071429</td>\n",
       "      <td>1.0</td>\n",
       "      <td>19.0</td>\n",
       "      <td>0.05</td>\n",
       "      <td>0.95</td>\n",
       "    </tr>\n",
       "    <tr>\n",
       "      <th>3</th>\n",
       "      <td>5</td>\n",
       "      <td>2</td>\n",
       "      <td>5.0</td>\n",
       "      <td>29.0</td>\n",
       "      <td>0.107011</td>\n",
       "      <td>2.0</td>\n",
       "      <td>27.0</td>\n",
       "      <td>0.068966</td>\n",
       "      <td>0.931034</td>\n",
       "      <td>2.0</td>\n",
       "      <td>20.0</td>\n",
       "      <td>0.071429</td>\n",
       "      <td>1.0</td>\n",
       "      <td>19.0</td>\n",
       "      <td>0.05</td>\n",
       "      <td>0.95</td>\n",
       "    </tr>\n",
       "    <tr>\n",
       "      <th>4</th>\n",
       "      <td>6</td>\n",
       "      <td>2</td>\n",
       "      <td>6.0</td>\n",
       "      <td>13.0</td>\n",
       "      <td>0.045296</td>\n",
       "      <td>0.0</td>\n",
       "      <td>13.0</td>\n",
       "      <td>0.000000</td>\n",
       "      <td>1.000000</td>\n",
       "      <td>2.0</td>\n",
       "      <td>20.0</td>\n",
       "      <td>0.071429</td>\n",
       "      <td>1.0</td>\n",
       "      <td>19.0</td>\n",
       "      <td>0.05</td>\n",
       "      <td>0.95</td>\n",
       "    </tr>\n",
       "  </tbody>\n",
       "</table>\n",
       "</div>"
      ],
      "text/plain": [
       "   a  b  item_x  ratings_x    odds_x  relevant_x  non_relevant_x  \\\n",
       "0  1  2     1.0       83.0  0.382488        52.0            31.0   \n",
       "1  3  2     3.0       14.0  0.048951         7.0             7.0   \n",
       "2  4  2     4.0       14.0  0.048951         4.0            10.0   \n",
       "3  5  2     5.0       29.0  0.107011         2.0            27.0   \n",
       "4  6  2     6.0       13.0  0.045296         0.0            13.0   \n",
       "\n",
       "   average_rel_x  average_non_rel_x  item_y  ratings_y    odds_y  relevant_y  \\\n",
       "0       0.626506           0.373494     2.0       20.0  0.071429         1.0   \n",
       "1       0.500000           0.500000     2.0       20.0  0.071429         1.0   \n",
       "2       0.285714           0.714286     2.0       20.0  0.071429         1.0   \n",
       "3       0.068966           0.931034     2.0       20.0  0.071429         1.0   \n",
       "4       0.000000           1.000000     2.0       20.0  0.071429         1.0   \n",
       "\n",
       "   non_relevant_y  average_rel_y  average_non_rel_y  \n",
       "0            19.0           0.05               0.95  \n",
       "1            19.0           0.05               0.95  \n",
       "2            19.0           0.05               0.95  \n",
       "3            19.0           0.05               0.95  \n",
       "4            19.0           0.05               0.95  "
      ]
     },
     "execution_count": 56,
     "metadata": {},
     "output_type": "execute_result"
    }
   ],
   "source": [
    "merged2.head()"
   ]
  },
  {
   "cell_type": "code",
   "execution_count": 57,
   "metadata": {},
   "outputs": [
    {
     "data": {
      "text/plain": [
       "0        0.311060\n",
       "1        0.022478\n",
       "2        0.022478\n",
       "3        0.035582\n",
       "4        0.026132\n",
       "           ...   \n",
       "89695    0.303352\n",
       "89696    0.322418\n",
       "89697    0.311060\n",
       "89698    0.279547\n",
       "89699    0.329857\n",
       "Length: 89700, dtype: float64"
      ]
     },
     "execution_count": 57,
     "metadata": {},
     "output_type": "execute_result"
    }
   ],
   "source": [
    "abs(merged2['odds_x'] - merged2['odds_y'])"
   ]
  },
  {
   "cell_type": "code",
   "execution_count": 58,
   "metadata": {},
   "outputs": [
    {
     "data": {
      "text/plain": [
       "0        0.382488\n",
       "1        0.071429\n",
       "2        0.071429\n",
       "3        0.107011\n",
       "4        0.071429\n",
       "           ...   \n",
       "89695    0.382488\n",
       "89696    0.382488\n",
       "89697    0.382488\n",
       "89698    0.382488\n",
       "89699    0.382488\n",
       "Length: 89700, dtype: float64"
      ]
     },
     "execution_count": 58,
     "metadata": {},
     "output_type": "execute_result"
    }
   ],
   "source": [
    "merged2[['odds_x', 'odds_y']].max(axis=1)"
   ]
  },
  {
   "cell_type": "code",
   "execution_count": 59,
   "metadata": {},
   "outputs": [
    {
     "data": {
      "text/plain": [
       "0        0.813253\n",
       "1        0.314685\n",
       "2        0.314685\n",
       "3        0.332512\n",
       "4        0.365854\n",
       "           ...   \n",
       "89695    0.793100\n",
       "89696    0.842948\n",
       "89697    0.813253\n",
       "89698    0.730865\n",
       "89699    0.862397\n",
       "Length: 89700, dtype: float64"
      ]
     },
     "execution_count": 59,
     "metadata": {},
     "output_type": "execute_result"
    }
   ],
   "source": [
    "abs(merged2['odds_x'] - merged2['odds_y'])/(merged2[['odds_x', 'odds_y']].max(axis=1))"
   ]
  },
  {
   "cell_type": "code",
   "execution_count": 60,
   "metadata": {},
   "outputs": [],
   "source": [
    "def steepness_cols(df, col_name):\n",
    "    abs(df[col_name+'_x'] - df[col_name+'_y'])/(df[[col_name+'_x', col_name+'_y']].max(axis=1))\n",
    "    "
   ]
  },
  {
   "cell_type": "code",
   "execution_count": 61,
   "metadata": {},
   "outputs": [],
   "source": [
    "merged2['steepness_odds'] =abs(merged2['odds_x'] - merged2['odds_y'])/(merged2[['odds_x', 'odds_y']].max(axis=1))"
   ]
  },
  {
   "cell_type": "code",
   "execution_count": 62,
   "metadata": {},
   "outputs": [],
   "source": [
    "merged2['steepness_relevance'] = abs(merged2['average_rel_x'] - merged2['average_rel_y'])/(merged2[['average_rel_x', 'average_rel_y']].max(axis=1))"
   ]
  },
  {
   "cell_type": "code",
   "execution_count": 63,
   "metadata": {},
   "outputs": [],
   "source": [
    "merged2['steepness_non_relevance'] = abs(merged2['average_non_rel_x'] - merged2['average_non_rel_y'])/(merged2[['average_non_rel_x', 'average_non_rel_y']].max(axis=1))"
   ]
  },
  {
   "cell_type": "code",
   "execution_count": 64,
   "metadata": {},
   "outputs": [
    {
     "data": {
      "text/html": [
       "<div>\n",
       "<style scoped>\n",
       "    .dataframe tbody tr th:only-of-type {\n",
       "        vertical-align: middle;\n",
       "    }\n",
       "\n",
       "    .dataframe tbody tr th {\n",
       "        vertical-align: top;\n",
       "    }\n",
       "\n",
       "    .dataframe thead th {\n",
       "        text-align: right;\n",
       "    }\n",
       "</style>\n",
       "<table border=\"1\" class=\"dataframe\">\n",
       "  <thead>\n",
       "    <tr style=\"text-align: right;\">\n",
       "      <th></th>\n",
       "      <th>a</th>\n",
       "      <th>b</th>\n",
       "      <th>item_x</th>\n",
       "      <th>ratings_x</th>\n",
       "      <th>odds_x</th>\n",
       "      <th>relevant_x</th>\n",
       "      <th>non_relevant_x</th>\n",
       "      <th>average_rel_x</th>\n",
       "      <th>average_non_rel_x</th>\n",
       "      <th>item_y</th>\n",
       "      <th>ratings_y</th>\n",
       "      <th>odds_y</th>\n",
       "      <th>relevant_y</th>\n",
       "      <th>non_relevant_y</th>\n",
       "      <th>average_rel_y</th>\n",
       "      <th>average_non_rel_y</th>\n",
       "      <th>steepness_odds</th>\n",
       "      <th>steepness_relevance</th>\n",
       "      <th>steepness_non_relevance</th>\n",
       "    </tr>\n",
       "  </thead>\n",
       "  <tbody>\n",
       "    <tr>\n",
       "      <th>0</th>\n",
       "      <td>1</td>\n",
       "      <td>2</td>\n",
       "      <td>1.0</td>\n",
       "      <td>83.0</td>\n",
       "      <td>0.382488</td>\n",
       "      <td>52.0</td>\n",
       "      <td>31.0</td>\n",
       "      <td>0.626506</td>\n",
       "      <td>0.373494</td>\n",
       "      <td>2.0</td>\n",
       "      <td>20.0</td>\n",
       "      <td>0.071429</td>\n",
       "      <td>1.0</td>\n",
       "      <td>19.0</td>\n",
       "      <td>0.05</td>\n",
       "      <td>0.95</td>\n",
       "      <td>0.813253</td>\n",
       "      <td>0.920192</td>\n",
       "      <td>0.606848</td>\n",
       "    </tr>\n",
       "    <tr>\n",
       "      <th>1</th>\n",
       "      <td>3</td>\n",
       "      <td>2</td>\n",
       "      <td>3.0</td>\n",
       "      <td>14.0</td>\n",
       "      <td>0.048951</td>\n",
       "      <td>7.0</td>\n",
       "      <td>7.0</td>\n",
       "      <td>0.500000</td>\n",
       "      <td>0.500000</td>\n",
       "      <td>2.0</td>\n",
       "      <td>20.0</td>\n",
       "      <td>0.071429</td>\n",
       "      <td>1.0</td>\n",
       "      <td>19.0</td>\n",
       "      <td>0.05</td>\n",
       "      <td>0.95</td>\n",
       "      <td>0.314685</td>\n",
       "      <td>0.900000</td>\n",
       "      <td>0.473684</td>\n",
       "    </tr>\n",
       "    <tr>\n",
       "      <th>2</th>\n",
       "      <td>4</td>\n",
       "      <td>2</td>\n",
       "      <td>4.0</td>\n",
       "      <td>14.0</td>\n",
       "      <td>0.048951</td>\n",
       "      <td>4.0</td>\n",
       "      <td>10.0</td>\n",
       "      <td>0.285714</td>\n",
       "      <td>0.714286</td>\n",
       "      <td>2.0</td>\n",
       "      <td>20.0</td>\n",
       "      <td>0.071429</td>\n",
       "      <td>1.0</td>\n",
       "      <td>19.0</td>\n",
       "      <td>0.05</td>\n",
       "      <td>0.95</td>\n",
       "      <td>0.314685</td>\n",
       "      <td>0.825000</td>\n",
       "      <td>0.248120</td>\n",
       "    </tr>\n",
       "    <tr>\n",
       "      <th>3</th>\n",
       "      <td>5</td>\n",
       "      <td>2</td>\n",
       "      <td>5.0</td>\n",
       "      <td>29.0</td>\n",
       "      <td>0.107011</td>\n",
       "      <td>2.0</td>\n",
       "      <td>27.0</td>\n",
       "      <td>0.068966</td>\n",
       "      <td>0.931034</td>\n",
       "      <td>2.0</td>\n",
       "      <td>20.0</td>\n",
       "      <td>0.071429</td>\n",
       "      <td>1.0</td>\n",
       "      <td>19.0</td>\n",
       "      <td>0.05</td>\n",
       "      <td>0.95</td>\n",
       "      <td>0.332512</td>\n",
       "      <td>0.275000</td>\n",
       "      <td>0.019964</td>\n",
       "    </tr>\n",
       "    <tr>\n",
       "      <th>4</th>\n",
       "      <td>6</td>\n",
       "      <td>2</td>\n",
       "      <td>6.0</td>\n",
       "      <td>13.0</td>\n",
       "      <td>0.045296</td>\n",
       "      <td>0.0</td>\n",
       "      <td>13.0</td>\n",
       "      <td>0.000000</td>\n",
       "      <td>1.000000</td>\n",
       "      <td>2.0</td>\n",
       "      <td>20.0</td>\n",
       "      <td>0.071429</td>\n",
       "      <td>1.0</td>\n",
       "      <td>19.0</td>\n",
       "      <td>0.05</td>\n",
       "      <td>0.95</td>\n",
       "      <td>0.365854</td>\n",
       "      <td>1.000000</td>\n",
       "      <td>0.050000</td>\n",
       "    </tr>\n",
       "  </tbody>\n",
       "</table>\n",
       "</div>"
      ],
      "text/plain": [
       "   a  b  item_x  ratings_x    odds_x  relevant_x  non_relevant_x  \\\n",
       "0  1  2     1.0       83.0  0.382488        52.0            31.0   \n",
       "1  3  2     3.0       14.0  0.048951         7.0             7.0   \n",
       "2  4  2     4.0       14.0  0.048951         4.0            10.0   \n",
       "3  5  2     5.0       29.0  0.107011         2.0            27.0   \n",
       "4  6  2     6.0       13.0  0.045296         0.0            13.0   \n",
       "\n",
       "   average_rel_x  average_non_rel_x  item_y  ratings_y    odds_y  relevant_y  \\\n",
       "0       0.626506           0.373494     2.0       20.0  0.071429         1.0   \n",
       "1       0.500000           0.500000     2.0       20.0  0.071429         1.0   \n",
       "2       0.285714           0.714286     2.0       20.0  0.071429         1.0   \n",
       "3       0.068966           0.931034     2.0       20.0  0.071429         1.0   \n",
       "4       0.000000           1.000000     2.0       20.0  0.071429         1.0   \n",
       "\n",
       "   non_relevant_y  average_rel_y  average_non_rel_y  steepness_odds  \\\n",
       "0            19.0           0.05               0.95        0.813253   \n",
       "1            19.0           0.05               0.95        0.314685   \n",
       "2            19.0           0.05               0.95        0.314685   \n",
       "3            19.0           0.05               0.95        0.332512   \n",
       "4            19.0           0.05               0.95        0.365854   \n",
       "\n",
       "   steepness_relevance  steepness_non_relevance  \n",
       "0             0.920192                 0.606848  \n",
       "1             0.900000                 0.473684  \n",
       "2             0.825000                 0.248120  \n",
       "3             0.275000                 0.019964  \n",
       "4             1.000000                 0.050000  "
      ]
     },
     "execution_count": 64,
     "metadata": {},
     "output_type": "execute_result"
    }
   ],
   "source": [
    "merged2.head()"
   ]
  },
  {
   "cell_type": "code",
   "execution_count": 65,
   "metadata": {},
   "outputs": [],
   "source": [
    "merged2['max_steepness'] = merged2[['steepness_odds','steepness_relevance','steepness_non_relevance']].max(axis=1)"
   ]
  },
  {
   "cell_type": "code",
   "execution_count": 66,
   "metadata": {},
   "outputs": [
    {
     "data": {
      "text/html": [
       "<div>\n",
       "<style scoped>\n",
       "    .dataframe tbody tr th:only-of-type {\n",
       "        vertical-align: middle;\n",
       "    }\n",
       "\n",
       "    .dataframe tbody tr th {\n",
       "        vertical-align: top;\n",
       "    }\n",
       "\n",
       "    .dataframe thead th {\n",
       "        text-align: right;\n",
       "    }\n",
       "</style>\n",
       "<table border=\"1\" class=\"dataframe\">\n",
       "  <thead>\n",
       "    <tr style=\"text-align: right;\">\n",
       "      <th></th>\n",
       "      <th>a</th>\n",
       "      <th>b</th>\n",
       "      <th>item_x</th>\n",
       "      <th>ratings_x</th>\n",
       "      <th>odds_x</th>\n",
       "      <th>relevant_x</th>\n",
       "      <th>non_relevant_x</th>\n",
       "      <th>average_rel_x</th>\n",
       "      <th>average_non_rel_x</th>\n",
       "      <th>item_y</th>\n",
       "      <th>ratings_y</th>\n",
       "      <th>odds_y</th>\n",
       "      <th>relevant_y</th>\n",
       "      <th>non_relevant_y</th>\n",
       "      <th>average_rel_y</th>\n",
       "      <th>average_non_rel_y</th>\n",
       "      <th>steepness_odds</th>\n",
       "      <th>steepness_relevance</th>\n",
       "      <th>steepness_non_relevance</th>\n",
       "      <th>max_steepness</th>\n",
       "    </tr>\n",
       "  </thead>\n",
       "  <tbody>\n",
       "    <tr>\n",
       "      <th>0</th>\n",
       "      <td>1</td>\n",
       "      <td>2</td>\n",
       "      <td>1.0</td>\n",
       "      <td>83.0</td>\n",
       "      <td>0.382488</td>\n",
       "      <td>52.0</td>\n",
       "      <td>31.0</td>\n",
       "      <td>0.626506</td>\n",
       "      <td>0.373494</td>\n",
       "      <td>2.0</td>\n",
       "      <td>20.0</td>\n",
       "      <td>0.071429</td>\n",
       "      <td>1.0</td>\n",
       "      <td>19.0</td>\n",
       "      <td>0.05</td>\n",
       "      <td>0.95</td>\n",
       "      <td>0.813253</td>\n",
       "      <td>0.920192</td>\n",
       "      <td>0.606848</td>\n",
       "      <td>0.920192</td>\n",
       "    </tr>\n",
       "    <tr>\n",
       "      <th>1</th>\n",
       "      <td>3</td>\n",
       "      <td>2</td>\n",
       "      <td>3.0</td>\n",
       "      <td>14.0</td>\n",
       "      <td>0.048951</td>\n",
       "      <td>7.0</td>\n",
       "      <td>7.0</td>\n",
       "      <td>0.500000</td>\n",
       "      <td>0.500000</td>\n",
       "      <td>2.0</td>\n",
       "      <td>20.0</td>\n",
       "      <td>0.071429</td>\n",
       "      <td>1.0</td>\n",
       "      <td>19.0</td>\n",
       "      <td>0.05</td>\n",
       "      <td>0.95</td>\n",
       "      <td>0.314685</td>\n",
       "      <td>0.900000</td>\n",
       "      <td>0.473684</td>\n",
       "      <td>0.900000</td>\n",
       "    </tr>\n",
       "    <tr>\n",
       "      <th>2</th>\n",
       "      <td>4</td>\n",
       "      <td>2</td>\n",
       "      <td>4.0</td>\n",
       "      <td>14.0</td>\n",
       "      <td>0.048951</td>\n",
       "      <td>4.0</td>\n",
       "      <td>10.0</td>\n",
       "      <td>0.285714</td>\n",
       "      <td>0.714286</td>\n",
       "      <td>2.0</td>\n",
       "      <td>20.0</td>\n",
       "      <td>0.071429</td>\n",
       "      <td>1.0</td>\n",
       "      <td>19.0</td>\n",
       "      <td>0.05</td>\n",
       "      <td>0.95</td>\n",
       "      <td>0.314685</td>\n",
       "      <td>0.825000</td>\n",
       "      <td>0.248120</td>\n",
       "      <td>0.825000</td>\n",
       "    </tr>\n",
       "    <tr>\n",
       "      <th>3</th>\n",
       "      <td>5</td>\n",
       "      <td>2</td>\n",
       "      <td>5.0</td>\n",
       "      <td>29.0</td>\n",
       "      <td>0.107011</td>\n",
       "      <td>2.0</td>\n",
       "      <td>27.0</td>\n",
       "      <td>0.068966</td>\n",
       "      <td>0.931034</td>\n",
       "      <td>2.0</td>\n",
       "      <td>20.0</td>\n",
       "      <td>0.071429</td>\n",
       "      <td>1.0</td>\n",
       "      <td>19.0</td>\n",
       "      <td>0.05</td>\n",
       "      <td>0.95</td>\n",
       "      <td>0.332512</td>\n",
       "      <td>0.275000</td>\n",
       "      <td>0.019964</td>\n",
       "      <td>0.332512</td>\n",
       "    </tr>\n",
       "    <tr>\n",
       "      <th>4</th>\n",
       "      <td>6</td>\n",
       "      <td>2</td>\n",
       "      <td>6.0</td>\n",
       "      <td>13.0</td>\n",
       "      <td>0.045296</td>\n",
       "      <td>0.0</td>\n",
       "      <td>13.0</td>\n",
       "      <td>0.000000</td>\n",
       "      <td>1.000000</td>\n",
       "      <td>2.0</td>\n",
       "      <td>20.0</td>\n",
       "      <td>0.071429</td>\n",
       "      <td>1.0</td>\n",
       "      <td>19.0</td>\n",
       "      <td>0.05</td>\n",
       "      <td>0.95</td>\n",
       "      <td>0.365854</td>\n",
       "      <td>1.000000</td>\n",
       "      <td>0.050000</td>\n",
       "      <td>1.000000</td>\n",
       "    </tr>\n",
       "  </tbody>\n",
       "</table>\n",
       "</div>"
      ],
      "text/plain": [
       "   a  b  item_x  ratings_x    odds_x  relevant_x  non_relevant_x  \\\n",
       "0  1  2     1.0       83.0  0.382488        52.0            31.0   \n",
       "1  3  2     3.0       14.0  0.048951         7.0             7.0   \n",
       "2  4  2     4.0       14.0  0.048951         4.0            10.0   \n",
       "3  5  2     5.0       29.0  0.107011         2.0            27.0   \n",
       "4  6  2     6.0       13.0  0.045296         0.0            13.0   \n",
       "\n",
       "   average_rel_x  average_non_rel_x  item_y  ratings_y    odds_y  relevant_y  \\\n",
       "0       0.626506           0.373494     2.0       20.0  0.071429         1.0   \n",
       "1       0.500000           0.500000     2.0       20.0  0.071429         1.0   \n",
       "2       0.285714           0.714286     2.0       20.0  0.071429         1.0   \n",
       "3       0.068966           0.931034     2.0       20.0  0.071429         1.0   \n",
       "4       0.000000           1.000000     2.0       20.0  0.071429         1.0   \n",
       "\n",
       "   non_relevant_y  average_rel_y  average_non_rel_y  steepness_odds  \\\n",
       "0            19.0           0.05               0.95        0.813253   \n",
       "1            19.0           0.05               0.95        0.314685   \n",
       "2            19.0           0.05               0.95        0.314685   \n",
       "3            19.0           0.05               0.95        0.332512   \n",
       "4            19.0           0.05               0.95        0.365854   \n",
       "\n",
       "   steepness_relevance  steepness_non_relevance  max_steepness  \n",
       "0             0.920192                 0.606848       0.920192  \n",
       "1             0.900000                 0.473684       0.900000  \n",
       "2             0.825000                 0.248120       0.825000  \n",
       "3             0.275000                 0.019964       0.332512  \n",
       "4             1.000000                 0.050000       1.000000  "
      ]
     },
     "execution_count": 66,
     "metadata": {},
     "output_type": "execute_result"
    }
   ],
   "source": [
    "merged2.head()"
   ]
  },
  {
   "cell_type": "code",
   "execution_count": 67,
   "metadata": {},
   "outputs": [],
   "source": [
    "import numpy as np"
   ]
  },
  {
   "cell_type": "code",
   "execution_count": 68,
   "metadata": {},
   "outputs": [],
   "source": [
    "merged2['max_steepness_label'] = np.where(merged2['max_steepness'] == merged2['steepness_odds'], 'odds', np.where(merged2['max_steepness'] == merged2['steepness_relevance'], 'relevance',np.where(merged2['max_steepness'] == merged2['steepness_non_relevance'], 'non_relevance','y')))"
   ]
  },
  {
   "cell_type": "code",
   "execution_count": 69,
   "metadata": {
    "scrolled": true
   },
   "outputs": [
    {
     "data": {
      "text/html": [
       "<div>\n",
       "<style scoped>\n",
       "    .dataframe tbody tr th:only-of-type {\n",
       "        vertical-align: middle;\n",
       "    }\n",
       "\n",
       "    .dataframe tbody tr th {\n",
       "        vertical-align: top;\n",
       "    }\n",
       "\n",
       "    .dataframe thead th {\n",
       "        text-align: right;\n",
       "    }\n",
       "</style>\n",
       "<table border=\"1\" class=\"dataframe\">\n",
       "  <thead>\n",
       "    <tr style=\"text-align: right;\">\n",
       "      <th></th>\n",
       "      <th>a</th>\n",
       "      <th>b</th>\n",
       "      <th>item_x</th>\n",
       "      <th>ratings_x</th>\n",
       "      <th>odds_x</th>\n",
       "      <th>relevant_x</th>\n",
       "      <th>non_relevant_x</th>\n",
       "      <th>average_rel_x</th>\n",
       "      <th>average_non_rel_x</th>\n",
       "      <th>item_y</th>\n",
       "      <th>...</th>\n",
       "      <th>odds_y</th>\n",
       "      <th>relevant_y</th>\n",
       "      <th>non_relevant_y</th>\n",
       "      <th>average_rel_y</th>\n",
       "      <th>average_non_rel_y</th>\n",
       "      <th>steepness_odds</th>\n",
       "      <th>steepness_relevance</th>\n",
       "      <th>steepness_non_relevance</th>\n",
       "      <th>max_steepness</th>\n",
       "      <th>max_steepness_label</th>\n",
       "    </tr>\n",
       "  </thead>\n",
       "  <tbody>\n",
       "    <tr>\n",
       "      <th>0</th>\n",
       "      <td>1</td>\n",
       "      <td>2</td>\n",
       "      <td>1.0</td>\n",
       "      <td>83.0</td>\n",
       "      <td>0.382488</td>\n",
       "      <td>52.0</td>\n",
       "      <td>31.0</td>\n",
       "      <td>0.626506</td>\n",
       "      <td>0.373494</td>\n",
       "      <td>2.0</td>\n",
       "      <td>...</td>\n",
       "      <td>0.071429</td>\n",
       "      <td>1.0</td>\n",
       "      <td>19.0</td>\n",
       "      <td>0.05</td>\n",
       "      <td>0.95</td>\n",
       "      <td>0.813253</td>\n",
       "      <td>0.920192</td>\n",
       "      <td>0.606848</td>\n",
       "      <td>0.920192</td>\n",
       "      <td>relevance</td>\n",
       "    </tr>\n",
       "    <tr>\n",
       "      <th>1</th>\n",
       "      <td>3</td>\n",
       "      <td>2</td>\n",
       "      <td>3.0</td>\n",
       "      <td>14.0</td>\n",
       "      <td>0.048951</td>\n",
       "      <td>7.0</td>\n",
       "      <td>7.0</td>\n",
       "      <td>0.500000</td>\n",
       "      <td>0.500000</td>\n",
       "      <td>2.0</td>\n",
       "      <td>...</td>\n",
       "      <td>0.071429</td>\n",
       "      <td>1.0</td>\n",
       "      <td>19.0</td>\n",
       "      <td>0.05</td>\n",
       "      <td>0.95</td>\n",
       "      <td>0.314685</td>\n",
       "      <td>0.900000</td>\n",
       "      <td>0.473684</td>\n",
       "      <td>0.900000</td>\n",
       "      <td>relevance</td>\n",
       "    </tr>\n",
       "    <tr>\n",
       "      <th>2</th>\n",
       "      <td>4</td>\n",
       "      <td>2</td>\n",
       "      <td>4.0</td>\n",
       "      <td>14.0</td>\n",
       "      <td>0.048951</td>\n",
       "      <td>4.0</td>\n",
       "      <td>10.0</td>\n",
       "      <td>0.285714</td>\n",
       "      <td>0.714286</td>\n",
       "      <td>2.0</td>\n",
       "      <td>...</td>\n",
       "      <td>0.071429</td>\n",
       "      <td>1.0</td>\n",
       "      <td>19.0</td>\n",
       "      <td>0.05</td>\n",
       "      <td>0.95</td>\n",
       "      <td>0.314685</td>\n",
       "      <td>0.825000</td>\n",
       "      <td>0.248120</td>\n",
       "      <td>0.825000</td>\n",
       "      <td>relevance</td>\n",
       "    </tr>\n",
       "    <tr>\n",
       "      <th>3</th>\n",
       "      <td>5</td>\n",
       "      <td>2</td>\n",
       "      <td>5.0</td>\n",
       "      <td>29.0</td>\n",
       "      <td>0.107011</td>\n",
       "      <td>2.0</td>\n",
       "      <td>27.0</td>\n",
       "      <td>0.068966</td>\n",
       "      <td>0.931034</td>\n",
       "      <td>2.0</td>\n",
       "      <td>...</td>\n",
       "      <td>0.071429</td>\n",
       "      <td>1.0</td>\n",
       "      <td>19.0</td>\n",
       "      <td>0.05</td>\n",
       "      <td>0.95</td>\n",
       "      <td>0.332512</td>\n",
       "      <td>0.275000</td>\n",
       "      <td>0.019964</td>\n",
       "      <td>0.332512</td>\n",
       "      <td>odds</td>\n",
       "    </tr>\n",
       "    <tr>\n",
       "      <th>4</th>\n",
       "      <td>6</td>\n",
       "      <td>2</td>\n",
       "      <td>6.0</td>\n",
       "      <td>13.0</td>\n",
       "      <td>0.045296</td>\n",
       "      <td>0.0</td>\n",
       "      <td>13.0</td>\n",
       "      <td>0.000000</td>\n",
       "      <td>1.000000</td>\n",
       "      <td>2.0</td>\n",
       "      <td>...</td>\n",
       "      <td>0.071429</td>\n",
       "      <td>1.0</td>\n",
       "      <td>19.0</td>\n",
       "      <td>0.05</td>\n",
       "      <td>0.95</td>\n",
       "      <td>0.365854</td>\n",
       "      <td>1.000000</td>\n",
       "      <td>0.050000</td>\n",
       "      <td>1.000000</td>\n",
       "      <td>relevance</td>\n",
       "    </tr>\n",
       "    <tr>\n",
       "      <th>5</th>\n",
       "      <td>7</td>\n",
       "      <td>2</td>\n",
       "      <td>7.0</td>\n",
       "      <td>14.0</td>\n",
       "      <td>0.048951</td>\n",
       "      <td>3.0</td>\n",
       "      <td>11.0</td>\n",
       "      <td>0.214286</td>\n",
       "      <td>0.785714</td>\n",
       "      <td>2.0</td>\n",
       "      <td>...</td>\n",
       "      <td>0.071429</td>\n",
       "      <td>1.0</td>\n",
       "      <td>19.0</td>\n",
       "      <td>0.05</td>\n",
       "      <td>0.95</td>\n",
       "      <td>0.314685</td>\n",
       "      <td>0.766667</td>\n",
       "      <td>0.172932</td>\n",
       "      <td>0.766667</td>\n",
       "      <td>relevance</td>\n",
       "    </tr>\n",
       "    <tr>\n",
       "      <th>6</th>\n",
       "      <td>8</td>\n",
       "      <td>2</td>\n",
       "      <td>8.0</td>\n",
       "      <td>19.0</td>\n",
       "      <td>0.067616</td>\n",
       "      <td>4.0</td>\n",
       "      <td>15.0</td>\n",
       "      <td>0.210526</td>\n",
       "      <td>0.789474</td>\n",
       "      <td>2.0</td>\n",
       "      <td>...</td>\n",
       "      <td>0.071429</td>\n",
       "      <td>1.0</td>\n",
       "      <td>19.0</td>\n",
       "      <td>0.05</td>\n",
       "      <td>0.95</td>\n",
       "      <td>0.053381</td>\n",
       "      <td>0.762500</td>\n",
       "      <td>0.168975</td>\n",
       "      <td>0.762500</td>\n",
       "      <td>relevance</td>\n",
       "    </tr>\n",
       "    <tr>\n",
       "      <th>7</th>\n",
       "      <td>9</td>\n",
       "      <td>2</td>\n",
       "      <td>9.0</td>\n",
       "      <td>21.0</td>\n",
       "      <td>0.075269</td>\n",
       "      <td>4.0</td>\n",
       "      <td>17.0</td>\n",
       "      <td>0.190476</td>\n",
       "      <td>0.809524</td>\n",
       "      <td>2.0</td>\n",
       "      <td>...</td>\n",
       "      <td>0.071429</td>\n",
       "      <td>1.0</td>\n",
       "      <td>19.0</td>\n",
       "      <td>0.05</td>\n",
       "      <td>0.95</td>\n",
       "      <td>0.051020</td>\n",
       "      <td>0.737500</td>\n",
       "      <td>0.147870</td>\n",
       "      <td>0.737500</td>\n",
       "      <td>relevance</td>\n",
       "    </tr>\n",
       "    <tr>\n",
       "      <th>8</th>\n",
       "      <td>10</td>\n",
       "      <td>2</td>\n",
       "      <td>10.0</td>\n",
       "      <td>21.0</td>\n",
       "      <td>0.075269</td>\n",
       "      <td>7.0</td>\n",
       "      <td>14.0</td>\n",
       "      <td>0.333333</td>\n",
       "      <td>0.666667</td>\n",
       "      <td>2.0</td>\n",
       "      <td>...</td>\n",
       "      <td>0.071429</td>\n",
       "      <td>1.0</td>\n",
       "      <td>19.0</td>\n",
       "      <td>0.05</td>\n",
       "      <td>0.95</td>\n",
       "      <td>0.051020</td>\n",
       "      <td>0.850000</td>\n",
       "      <td>0.298246</td>\n",
       "      <td>0.850000</td>\n",
       "      <td>relevance</td>\n",
       "    </tr>\n",
       "    <tr>\n",
       "      <th>9</th>\n",
       "      <td>11</td>\n",
       "      <td>2</td>\n",
       "      <td>11.0</td>\n",
       "      <td>19.0</td>\n",
       "      <td>0.067616</td>\n",
       "      <td>5.0</td>\n",
       "      <td>14.0</td>\n",
       "      <td>0.263158</td>\n",
       "      <td>0.736842</td>\n",
       "      <td>2.0</td>\n",
       "      <td>...</td>\n",
       "      <td>0.071429</td>\n",
       "      <td>1.0</td>\n",
       "      <td>19.0</td>\n",
       "      <td>0.05</td>\n",
       "      <td>0.95</td>\n",
       "      <td>0.053381</td>\n",
       "      <td>0.810000</td>\n",
       "      <td>0.224377</td>\n",
       "      <td>0.810000</td>\n",
       "      <td>relevance</td>\n",
       "    </tr>\n",
       "  </tbody>\n",
       "</table>\n",
       "<p>10 rows × 21 columns</p>\n",
       "</div>"
      ],
      "text/plain": [
       "    a  b  item_x  ratings_x    odds_x  relevant_x  non_relevant_x  \\\n",
       "0   1  2     1.0       83.0  0.382488        52.0            31.0   \n",
       "1   3  2     3.0       14.0  0.048951         7.0             7.0   \n",
       "2   4  2     4.0       14.0  0.048951         4.0            10.0   \n",
       "3   5  2     5.0       29.0  0.107011         2.0            27.0   \n",
       "4   6  2     6.0       13.0  0.045296         0.0            13.0   \n",
       "5   7  2     7.0       14.0  0.048951         3.0            11.0   \n",
       "6   8  2     8.0       19.0  0.067616         4.0            15.0   \n",
       "7   9  2     9.0       21.0  0.075269         4.0            17.0   \n",
       "8  10  2    10.0       21.0  0.075269         7.0            14.0   \n",
       "9  11  2    11.0       19.0  0.067616         5.0            14.0   \n",
       "\n",
       "   average_rel_x  average_non_rel_x  item_y  ...    odds_y  relevant_y  \\\n",
       "0       0.626506           0.373494     2.0  ...  0.071429         1.0   \n",
       "1       0.500000           0.500000     2.0  ...  0.071429         1.0   \n",
       "2       0.285714           0.714286     2.0  ...  0.071429         1.0   \n",
       "3       0.068966           0.931034     2.0  ...  0.071429         1.0   \n",
       "4       0.000000           1.000000     2.0  ...  0.071429         1.0   \n",
       "5       0.214286           0.785714     2.0  ...  0.071429         1.0   \n",
       "6       0.210526           0.789474     2.0  ...  0.071429         1.0   \n",
       "7       0.190476           0.809524     2.0  ...  0.071429         1.0   \n",
       "8       0.333333           0.666667     2.0  ...  0.071429         1.0   \n",
       "9       0.263158           0.736842     2.0  ...  0.071429         1.0   \n",
       "\n",
       "   non_relevant_y  average_rel_y  average_non_rel_y  steepness_odds  \\\n",
       "0            19.0           0.05               0.95        0.813253   \n",
       "1            19.0           0.05               0.95        0.314685   \n",
       "2            19.0           0.05               0.95        0.314685   \n",
       "3            19.0           0.05               0.95        0.332512   \n",
       "4            19.0           0.05               0.95        0.365854   \n",
       "5            19.0           0.05               0.95        0.314685   \n",
       "6            19.0           0.05               0.95        0.053381   \n",
       "7            19.0           0.05               0.95        0.051020   \n",
       "8            19.0           0.05               0.95        0.051020   \n",
       "9            19.0           0.05               0.95        0.053381   \n",
       "\n",
       "   steepness_relevance  steepness_non_relevance  max_steepness  \\\n",
       "0             0.920192                 0.606848       0.920192   \n",
       "1             0.900000                 0.473684       0.900000   \n",
       "2             0.825000                 0.248120       0.825000   \n",
       "3             0.275000                 0.019964       0.332512   \n",
       "4             1.000000                 0.050000       1.000000   \n",
       "5             0.766667                 0.172932       0.766667   \n",
       "6             0.762500                 0.168975       0.762500   \n",
       "7             0.737500                 0.147870       0.737500   \n",
       "8             0.850000                 0.298246       0.850000   \n",
       "9             0.810000                 0.224377       0.810000   \n",
       "\n",
       "   max_steepness_label  \n",
       "0            relevance  \n",
       "1            relevance  \n",
       "2            relevance  \n",
       "3                 odds  \n",
       "4            relevance  \n",
       "5            relevance  \n",
       "6            relevance  \n",
       "7            relevance  \n",
       "8            relevance  \n",
       "9            relevance  \n",
       "\n",
       "[10 rows x 21 columns]"
      ]
     },
     "execution_count": 69,
     "metadata": {},
     "output_type": "execute_result"
    }
   ],
   "source": [
    "merged2.head(10)"
   ]
  },
  {
   "cell_type": "code",
   "execution_count": 70,
   "metadata": {},
   "outputs": [],
   "source": [
    "merged2['max_steep_odds_rel'] = merged2[['steepness_odds','steepness_relevance']].max(axis=1)"
   ]
  },
  {
   "cell_type": "code",
   "execution_count": 71,
   "metadata": {},
   "outputs": [],
   "source": [
    "merged2['max_steep_odds_non_rel'] = merged2[['steepness_odds','steepness_non_relevance']].max(axis=1)"
   ]
  },
  {
   "cell_type": "code",
   "execution_count": 72,
   "metadata": {},
   "outputs": [],
   "source": [
    "merged2['max_steep_rel_non_rel'] = merged2[['steepness_relevance','steepness_non_relevance']].max(axis=1)"
   ]
  },
  {
   "cell_type": "code",
   "execution_count": 73,
   "metadata": {},
   "outputs": [],
   "source": [
    "merged2['max_steep_odds_rel_label'] = np.where(merged2['max_steep_odds_rel'] == merged2['steepness_odds'], 'odds', np.where(merged2['max_steep_odds_rel'] == merged2['steepness_relevance'], 'relevance', 'y'))"
   ]
  },
  {
   "cell_type": "code",
   "execution_count": 74,
   "metadata": {},
   "outputs": [],
   "source": [
    "merged2['max_steep_odds_non_rel_label'] = np.where(merged2['max_steep_odds_non_rel'] == merged2['steepness_odds'], 'odds', np.where(merged2['max_steep_odds_non_rel'] == merged2['steepness_non_relevance'], 'non_relevance', 'y'))"
   ]
  },
  {
   "cell_type": "code",
   "execution_count": 75,
   "metadata": {},
   "outputs": [],
   "source": [
    "merged2['max_steep_rel_non_rel_label'] = np.where(merged2['max_steep_rel_non_rel'] == merged2['steepness_relevance'], 'relevance', np.where(merged2['max_steep_rel_non_rel'] == merged2['steepness_non_relevance'], 'non_relevance', 'y'))"
   ]
  },
  {
   "cell_type": "code",
   "execution_count": 76,
   "metadata": {},
   "outputs": [],
   "source": [
    "import matplotlib.pyplot as plt"
   ]
  },
  {
   "cell_type": "code",
   "execution_count": 77,
   "metadata": {},
   "outputs": [
    {
     "data": {
      "image/png": "[encoded data removed]",
      "text/plain": [
       "<Figure size 432x288 with 1 Axes>"
      ]
     },
     "metadata": {},
     "output_type": "display_data"
    }
   ],
   "source": [
    "merged2['max_steepness_label'].value_counts().plot(kind='pie',autopct='%.2f')\n",
    "plt.show()"
   ]
  },
  {
   "cell_type": "code",
   "execution_count": 78,
   "metadata": {},
   "outputs": [
    {
     "data": {
      "image/png": "[encoded data removed]",
      "text/plain": [
       "<Figure size 432x288 with 1 Axes>"
      ]
     },
     "metadata": {},
     "output_type": "display_data"
    }
   ],
   "source": [
    "merged2['max_steep_odds_rel_label'].value_counts().plot(kind='pie',autopct='%.2f')\n",
    "plt.show()"
   ]
  },
  {
   "cell_type": "code",
   "execution_count": 79,
   "metadata": {},
   "outputs": [
    {
     "data": {
      "image/png": "[encoded data removed]",
      "text/plain": [
       "<Figure size 432x288 with 1 Axes>"
      ]
     },
     "metadata": {},
     "output_type": "display_data"
    }
   ],
   "source": [
    "merged2['max_steep_odds_non_rel_label'].value_counts().plot(kind='pie',autopct='%.2f')\n",
    "plt.show()"
   ]
  },
  {
   "cell_type": "code",
   "execution_count": 80,
   "metadata": {},
   "outputs": [
    {
     "data": {
      "image/png": "[encoded data removed]",
      "text/plain": [
       "<Figure size 432x288 with 1 Axes>"
      ]
     },
     "metadata": {},
     "output_type": "display_data"
    }
   ],
   "source": [
    "merged2['max_steep_rel_non_rel_label'].value_counts().plot(kind='pie',autopct='%.2f')\n",
    "plt.show()"
   ]
  },
  {
   "cell_type": "code",
   "execution_count": null,
   "metadata": {},
   "outputs": [],
   "source": []
  }
 ],
 "metadata": {
  "kernelspec": {
   "display_name": "Python 3",
   "language": "python",
   "name": "python3"
  },
  "language_info": {
   "codemirror_mode": {
    "name": "ipython",
    "version": 3
   },
   "file_extension": ".py",
   "mimetype": "text/x-python",
   "name": "python",
   "nbconvert_exporter": "python",
   "pygments_lexer": "ipython3",
   "version": "3.7.1"
  }
 },
 "nbformat": 4,
 "nbformat_minor": 1
}
